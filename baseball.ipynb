{
 "cells": [
  {
   "cell_type": "code",
   "execution_count": 123,
   "id": "7710af5f",
   "metadata": {},
   "outputs": [],
   "source": [
    "#importing necessary libraries"
   ]
  },
  {
   "cell_type": "code",
   "execution_count": 124,
   "id": "6294d7e9",
   "metadata": {},
   "outputs": [],
   "source": [
    "import numpy as np\n",
    "import pandas as pd\n",
    "import matplotlib.pyplot as plt\n",
    "import seaborn as sns\n",
    "import warnings\n",
    "warnings.filterwarnings('ignore')\n",
    "%matplotlib inline"
   ]
  },
  {
   "cell_type": "code",
   "execution_count": 125,
   "id": "86bf342f",
   "metadata": {},
   "outputs": [],
   "source": [
    "#reading the data"
   ]
  },
  {
   "cell_type": "code",
   "execution_count": 126,
   "id": "88a6e7ee",
   "metadata": {},
   "outputs": [],
   "source": [
    "df=pd.read_csv('baseball.csv')"
   ]
  },
  {
   "cell_type": "code",
   "execution_count": 127,
   "id": "ae504866",
   "metadata": {},
   "outputs": [
    {
     "data": {
      "text/html": [
       "<div>\n",
       "<style scoped>\n",
       "    .dataframe tbody tr th:only-of-type {\n",
       "        vertical-align: middle;\n",
       "    }\n",
       "\n",
       "    .dataframe tbody tr th {\n",
       "        vertical-align: top;\n",
       "    }\n",
       "\n",
       "    .dataframe thead th {\n",
       "        text-align: right;\n",
       "    }\n",
       "</style>\n",
       "<table border=\"1\" class=\"dataframe\">\n",
       "  <thead>\n",
       "    <tr style=\"text-align: right;\">\n",
       "      <th></th>\n",
       "      <th>W</th>\n",
       "      <th>R</th>\n",
       "      <th>AB</th>\n",
       "      <th>H</th>\n",
       "      <th>2B</th>\n",
       "      <th>3B</th>\n",
       "      <th>HR</th>\n",
       "      <th>BB</th>\n",
       "      <th>SO</th>\n",
       "      <th>SB</th>\n",
       "      <th>RA</th>\n",
       "      <th>ER</th>\n",
       "      <th>ERA</th>\n",
       "      <th>CG</th>\n",
       "      <th>SHO</th>\n",
       "      <th>SV</th>\n",
       "      <th>E</th>\n",
       "    </tr>\n",
       "  </thead>\n",
       "  <tbody>\n",
       "    <tr>\n",
       "      <th>0</th>\n",
       "      <td>95</td>\n",
       "      <td>724</td>\n",
       "      <td>5575</td>\n",
       "      <td>1497</td>\n",
       "      <td>300</td>\n",
       "      <td>42</td>\n",
       "      <td>139</td>\n",
       "      <td>383</td>\n",
       "      <td>973</td>\n",
       "      <td>104</td>\n",
       "      <td>641</td>\n",
       "      <td>601</td>\n",
       "      <td>3.73</td>\n",
       "      <td>2</td>\n",
       "      <td>8</td>\n",
       "      <td>56</td>\n",
       "      <td>88</td>\n",
       "    </tr>\n",
       "    <tr>\n",
       "      <th>1</th>\n",
       "      <td>83</td>\n",
       "      <td>696</td>\n",
       "      <td>5467</td>\n",
       "      <td>1349</td>\n",
       "      <td>277</td>\n",
       "      <td>44</td>\n",
       "      <td>156</td>\n",
       "      <td>439</td>\n",
       "      <td>1264</td>\n",
       "      <td>70</td>\n",
       "      <td>700</td>\n",
       "      <td>653</td>\n",
       "      <td>4.07</td>\n",
       "      <td>2</td>\n",
       "      <td>12</td>\n",
       "      <td>45</td>\n",
       "      <td>86</td>\n",
       "    </tr>\n",
       "    <tr>\n",
       "      <th>2</th>\n",
       "      <td>81</td>\n",
       "      <td>669</td>\n",
       "      <td>5439</td>\n",
       "      <td>1395</td>\n",
       "      <td>303</td>\n",
       "      <td>29</td>\n",
       "      <td>141</td>\n",
       "      <td>533</td>\n",
       "      <td>1157</td>\n",
       "      <td>86</td>\n",
       "      <td>640</td>\n",
       "      <td>584</td>\n",
       "      <td>3.67</td>\n",
       "      <td>11</td>\n",
       "      <td>10</td>\n",
       "      <td>38</td>\n",
       "      <td>79</td>\n",
       "    </tr>\n",
       "    <tr>\n",
       "      <th>3</th>\n",
       "      <td>76</td>\n",
       "      <td>622</td>\n",
       "      <td>5533</td>\n",
       "      <td>1381</td>\n",
       "      <td>260</td>\n",
       "      <td>27</td>\n",
       "      <td>136</td>\n",
       "      <td>404</td>\n",
       "      <td>1231</td>\n",
       "      <td>68</td>\n",
       "      <td>701</td>\n",
       "      <td>643</td>\n",
       "      <td>3.98</td>\n",
       "      <td>7</td>\n",
       "      <td>9</td>\n",
       "      <td>37</td>\n",
       "      <td>101</td>\n",
       "    </tr>\n",
       "    <tr>\n",
       "      <th>4</th>\n",
       "      <td>74</td>\n",
       "      <td>689</td>\n",
       "      <td>5605</td>\n",
       "      <td>1515</td>\n",
       "      <td>289</td>\n",
       "      <td>49</td>\n",
       "      <td>151</td>\n",
       "      <td>455</td>\n",
       "      <td>1259</td>\n",
       "      <td>83</td>\n",
       "      <td>803</td>\n",
       "      <td>746</td>\n",
       "      <td>4.64</td>\n",
       "      <td>7</td>\n",
       "      <td>12</td>\n",
       "      <td>35</td>\n",
       "      <td>86</td>\n",
       "    </tr>\n",
       "  </tbody>\n",
       "</table>\n",
       "</div>"
      ],
      "text/plain": [
       "    W    R    AB     H   2B  3B   HR   BB    SO   SB   RA   ER   ERA  CG  SHO  \\\n",
       "0  95  724  5575  1497  300  42  139  383   973  104  641  601  3.73   2    8   \n",
       "1  83  696  5467  1349  277  44  156  439  1264   70  700  653  4.07   2   12   \n",
       "2  81  669  5439  1395  303  29  141  533  1157   86  640  584  3.67  11   10   \n",
       "3  76  622  5533  1381  260  27  136  404  1231   68  701  643  3.98   7    9   \n",
       "4  74  689  5605  1515  289  49  151  455  1259   83  803  746  4.64   7   12   \n",
       "\n",
       "   SV    E  \n",
       "0  56   88  \n",
       "1  45   86  \n",
       "2  38   79  \n",
       "3  37  101  \n",
       "4  35   86  "
      ]
     },
     "execution_count": 127,
     "metadata": {},
     "output_type": "execute_result"
    }
   ],
   "source": [
    "df.head()"
   ]
  },
  {
   "cell_type": "code",
   "execution_count": 128,
   "id": "448f4f9b",
   "metadata": {},
   "outputs": [],
   "source": [
    "#fetching the info about the data"
   ]
  },
  {
   "cell_type": "code",
   "execution_count": 129,
   "id": "c741c2da",
   "metadata": {},
   "outputs": [
    {
     "data": {
      "text/plain": [
       "(30, 17)"
      ]
     },
     "execution_count": 129,
     "metadata": {},
     "output_type": "execute_result"
    }
   ],
   "source": [
    "df.shape"
   ]
  },
  {
   "cell_type": "markdown",
   "id": "a071d0b9",
   "metadata": {},
   "source": [
    "there are 30rows and 17 columns"
   ]
  },
  {
   "cell_type": "code",
   "execution_count": 130,
   "id": "b2003bc1",
   "metadata": {},
   "outputs": [
    {
     "data": {
      "text/plain": [
       "Index(['W', 'R', 'AB', 'H', '2B', '3B', 'HR', 'BB', 'SO', 'SB', 'RA', 'ER',\n",
       "       'ERA', 'CG', 'SHO', 'SV', 'E'],\n",
       "      dtype='object')"
      ]
     },
     "execution_count": 130,
     "metadata": {},
     "output_type": "execute_result"
    }
   ],
   "source": [
    "df.columns"
   ]
  },
  {
   "cell_type": "markdown",
   "id": "305adb43",
   "metadata": {},
   "source": [
    "from the data we can understand that:\n"
   ]
  },
  {
   "cell_type": "markdown",
   "id": "d88a2ec5",
   "metadata": {},
   "source": [
    "W -- WIN  (Target Variable) //R -- Runs///AB -- At Bats///H -- Hits////2B -- Doubles////3B -- Triples////HR -- Homeruns///BB -- Walks////SO -- Strikeouts/////SB -- Stolen Bases////RA -- Runs Allowed/////ER -- Earned Runs////ERA -- Earned Run Average////SHO -- Shutouts////SV -- Saves////E -- Errors"
   ]
  },
  {
   "cell_type": "code",
   "execution_count": 131,
   "id": "1e63e36f",
   "metadata": {},
   "outputs": [
    {
     "data": {
      "text/plain": [
       "W        int64\n",
       "R        int64\n",
       "AB       int64\n",
       "H        int64\n",
       "2B       int64\n",
       "3B       int64\n",
       "HR       int64\n",
       "BB       int64\n",
       "SO       int64\n",
       "SB       int64\n",
       "RA       int64\n",
       "ER       int64\n",
       "ERA    float64\n",
       "CG       int64\n",
       "SHO      int64\n",
       "SV       int64\n",
       "E        int64\n",
       "dtype: object"
      ]
     },
     "execution_count": 131,
     "metadata": {},
     "output_type": "execute_result"
    }
   ],
   "source": [
    "df.dtypes"
   ]
  },
  {
   "cell_type": "markdown",
   "id": "6adea7d2",
   "metadata": {},
   "source": [
    "all the values are in numerical form"
   ]
  },
  {
   "cell_type": "code",
   "execution_count": 132,
   "id": "144647c9",
   "metadata": {},
   "outputs": [
    {
     "name": "stdout",
     "output_type": "stream",
     "text": [
      "<class 'pandas.core.frame.DataFrame'>\n",
      "RangeIndex: 30 entries, 0 to 29\n",
      "Data columns (total 17 columns):\n",
      " #   Column  Non-Null Count  Dtype  \n",
      "---  ------  --------------  -----  \n",
      " 0   W       30 non-null     int64  \n",
      " 1   R       30 non-null     int64  \n",
      " 2   AB      30 non-null     int64  \n",
      " 3   H       30 non-null     int64  \n",
      " 4   2B      30 non-null     int64  \n",
      " 5   3B      30 non-null     int64  \n",
      " 6   HR      30 non-null     int64  \n",
      " 7   BB      30 non-null     int64  \n",
      " 8   SO      30 non-null     int64  \n",
      " 9   SB      30 non-null     int64  \n",
      " 10  RA      30 non-null     int64  \n",
      " 11  ER      30 non-null     int64  \n",
      " 12  ERA     30 non-null     float64\n",
      " 13  CG      30 non-null     int64  \n",
      " 14  SHO     30 non-null     int64  \n",
      " 15  SV      30 non-null     int64  \n",
      " 16  E       30 non-null     int64  \n",
      "dtypes: float64(1), int64(16)\n",
      "memory usage: 4.1 KB\n"
     ]
    }
   ],
   "source": [
    "df.info()"
   ]
  },
  {
   "cell_type": "code",
   "execution_count": 133,
   "id": "84c574cb",
   "metadata": {},
   "outputs": [
    {
     "data": {
      "text/html": [
       "<div>\n",
       "<style scoped>\n",
       "    .dataframe tbody tr th:only-of-type {\n",
       "        vertical-align: middle;\n",
       "    }\n",
       "\n",
       "    .dataframe tbody tr th {\n",
       "        vertical-align: top;\n",
       "    }\n",
       "\n",
       "    .dataframe thead th {\n",
       "        text-align: right;\n",
       "    }\n",
       "</style>\n",
       "<table border=\"1\" class=\"dataframe\">\n",
       "  <thead>\n",
       "    <tr style=\"text-align: right;\">\n",
       "      <th></th>\n",
       "      <th>W</th>\n",
       "      <th>R</th>\n",
       "      <th>AB</th>\n",
       "      <th>H</th>\n",
       "      <th>2B</th>\n",
       "      <th>3B</th>\n",
       "      <th>HR</th>\n",
       "      <th>BB</th>\n",
       "      <th>SO</th>\n",
       "      <th>SB</th>\n",
       "      <th>RA</th>\n",
       "      <th>ER</th>\n",
       "      <th>ERA</th>\n",
       "      <th>CG</th>\n",
       "      <th>SHO</th>\n",
       "      <th>SV</th>\n",
       "      <th>E</th>\n",
       "    </tr>\n",
       "  </thead>\n",
       "  <tbody>\n",
       "    <tr>\n",
       "      <th>count</th>\n",
       "      <td>30.000000</td>\n",
       "      <td>30.000000</td>\n",
       "      <td>30.000000</td>\n",
       "      <td>30.000000</td>\n",
       "      <td>30.000000</td>\n",
       "      <td>30.000000</td>\n",
       "      <td>30.000000</td>\n",
       "      <td>30.000000</td>\n",
       "      <td>30.00000</td>\n",
       "      <td>30.000000</td>\n",
       "      <td>30.000000</td>\n",
       "      <td>30.000000</td>\n",
       "      <td>30.000000</td>\n",
       "      <td>30.000000</td>\n",
       "      <td>30.000000</td>\n",
       "      <td>30.000000</td>\n",
       "      <td>30.000000</td>\n",
       "    </tr>\n",
       "    <tr>\n",
       "      <th>mean</th>\n",
       "      <td>80.966667</td>\n",
       "      <td>688.233333</td>\n",
       "      <td>5516.266667</td>\n",
       "      <td>1403.533333</td>\n",
       "      <td>274.733333</td>\n",
       "      <td>31.300000</td>\n",
       "      <td>163.633333</td>\n",
       "      <td>469.100000</td>\n",
       "      <td>1248.20000</td>\n",
       "      <td>83.500000</td>\n",
       "      <td>688.233333</td>\n",
       "      <td>635.833333</td>\n",
       "      <td>3.956333</td>\n",
       "      <td>3.466667</td>\n",
       "      <td>11.300000</td>\n",
       "      <td>43.066667</td>\n",
       "      <td>94.333333</td>\n",
       "    </tr>\n",
       "    <tr>\n",
       "      <th>std</th>\n",
       "      <td>10.453455</td>\n",
       "      <td>58.761754</td>\n",
       "      <td>70.467372</td>\n",
       "      <td>57.140923</td>\n",
       "      <td>18.095405</td>\n",
       "      <td>10.452355</td>\n",
       "      <td>31.823309</td>\n",
       "      <td>57.053725</td>\n",
       "      <td>103.75947</td>\n",
       "      <td>22.815225</td>\n",
       "      <td>72.108005</td>\n",
       "      <td>70.140786</td>\n",
       "      <td>0.454089</td>\n",
       "      <td>2.763473</td>\n",
       "      <td>4.120177</td>\n",
       "      <td>7.869335</td>\n",
       "      <td>13.958889</td>\n",
       "    </tr>\n",
       "    <tr>\n",
       "      <th>min</th>\n",
       "      <td>63.000000</td>\n",
       "      <td>573.000000</td>\n",
       "      <td>5385.000000</td>\n",
       "      <td>1324.000000</td>\n",
       "      <td>236.000000</td>\n",
       "      <td>13.000000</td>\n",
       "      <td>100.000000</td>\n",
       "      <td>375.000000</td>\n",
       "      <td>973.00000</td>\n",
       "      <td>44.000000</td>\n",
       "      <td>525.000000</td>\n",
       "      <td>478.000000</td>\n",
       "      <td>2.940000</td>\n",
       "      <td>0.000000</td>\n",
       "      <td>4.000000</td>\n",
       "      <td>28.000000</td>\n",
       "      <td>75.000000</td>\n",
       "    </tr>\n",
       "    <tr>\n",
       "      <th>25%</th>\n",
       "      <td>74.000000</td>\n",
       "      <td>651.250000</td>\n",
       "      <td>5464.000000</td>\n",
       "      <td>1363.000000</td>\n",
       "      <td>262.250000</td>\n",
       "      <td>23.000000</td>\n",
       "      <td>140.250000</td>\n",
       "      <td>428.250000</td>\n",
       "      <td>1157.50000</td>\n",
       "      <td>69.000000</td>\n",
       "      <td>636.250000</td>\n",
       "      <td>587.250000</td>\n",
       "      <td>3.682500</td>\n",
       "      <td>1.000000</td>\n",
       "      <td>9.000000</td>\n",
       "      <td>37.250000</td>\n",
       "      <td>86.000000</td>\n",
       "    </tr>\n",
       "    <tr>\n",
       "      <th>50%</th>\n",
       "      <td>81.000000</td>\n",
       "      <td>689.000000</td>\n",
       "      <td>5510.000000</td>\n",
       "      <td>1382.500000</td>\n",
       "      <td>275.500000</td>\n",
       "      <td>31.000000</td>\n",
       "      <td>158.500000</td>\n",
       "      <td>473.000000</td>\n",
       "      <td>1261.50000</td>\n",
       "      <td>83.500000</td>\n",
       "      <td>695.500000</td>\n",
       "      <td>644.500000</td>\n",
       "      <td>4.025000</td>\n",
       "      <td>3.000000</td>\n",
       "      <td>12.000000</td>\n",
       "      <td>42.000000</td>\n",
       "      <td>91.000000</td>\n",
       "    </tr>\n",
       "    <tr>\n",
       "      <th>75%</th>\n",
       "      <td>87.750000</td>\n",
       "      <td>718.250000</td>\n",
       "      <td>5570.000000</td>\n",
       "      <td>1451.500000</td>\n",
       "      <td>288.750000</td>\n",
       "      <td>39.000000</td>\n",
       "      <td>177.000000</td>\n",
       "      <td>501.250000</td>\n",
       "      <td>1311.50000</td>\n",
       "      <td>96.500000</td>\n",
       "      <td>732.500000</td>\n",
       "      <td>679.250000</td>\n",
       "      <td>4.220000</td>\n",
       "      <td>5.750000</td>\n",
       "      <td>13.000000</td>\n",
       "      <td>46.750000</td>\n",
       "      <td>96.750000</td>\n",
       "    </tr>\n",
       "    <tr>\n",
       "      <th>max</th>\n",
       "      <td>100.000000</td>\n",
       "      <td>891.000000</td>\n",
       "      <td>5649.000000</td>\n",
       "      <td>1515.000000</td>\n",
       "      <td>308.000000</td>\n",
       "      <td>49.000000</td>\n",
       "      <td>232.000000</td>\n",
       "      <td>570.000000</td>\n",
       "      <td>1518.00000</td>\n",
       "      <td>134.000000</td>\n",
       "      <td>844.000000</td>\n",
       "      <td>799.000000</td>\n",
       "      <td>5.040000</td>\n",
       "      <td>11.000000</td>\n",
       "      <td>21.000000</td>\n",
       "      <td>62.000000</td>\n",
       "      <td>126.000000</td>\n",
       "    </tr>\n",
       "  </tbody>\n",
       "</table>\n",
       "</div>"
      ],
      "text/plain": [
       "                W           R           AB            H          2B  \\\n",
       "count   30.000000   30.000000    30.000000    30.000000   30.000000   \n",
       "mean    80.966667  688.233333  5516.266667  1403.533333  274.733333   \n",
       "std     10.453455   58.761754    70.467372    57.140923   18.095405   \n",
       "min     63.000000  573.000000  5385.000000  1324.000000  236.000000   \n",
       "25%     74.000000  651.250000  5464.000000  1363.000000  262.250000   \n",
       "50%     81.000000  689.000000  5510.000000  1382.500000  275.500000   \n",
       "75%     87.750000  718.250000  5570.000000  1451.500000  288.750000   \n",
       "max    100.000000  891.000000  5649.000000  1515.000000  308.000000   \n",
       "\n",
       "              3B          HR          BB          SO          SB          RA  \\\n",
       "count  30.000000   30.000000   30.000000    30.00000   30.000000   30.000000   \n",
       "mean   31.300000  163.633333  469.100000  1248.20000   83.500000  688.233333   \n",
       "std    10.452355   31.823309   57.053725   103.75947   22.815225   72.108005   \n",
       "min    13.000000  100.000000  375.000000   973.00000   44.000000  525.000000   \n",
       "25%    23.000000  140.250000  428.250000  1157.50000   69.000000  636.250000   \n",
       "50%    31.000000  158.500000  473.000000  1261.50000   83.500000  695.500000   \n",
       "75%    39.000000  177.000000  501.250000  1311.50000   96.500000  732.500000   \n",
       "max    49.000000  232.000000  570.000000  1518.00000  134.000000  844.000000   \n",
       "\n",
       "               ER        ERA         CG        SHO         SV           E  \n",
       "count   30.000000  30.000000  30.000000  30.000000  30.000000   30.000000  \n",
       "mean   635.833333   3.956333   3.466667  11.300000  43.066667   94.333333  \n",
       "std     70.140786   0.454089   2.763473   4.120177   7.869335   13.958889  \n",
       "min    478.000000   2.940000   0.000000   4.000000  28.000000   75.000000  \n",
       "25%    587.250000   3.682500   1.000000   9.000000  37.250000   86.000000  \n",
       "50%    644.500000   4.025000   3.000000  12.000000  42.000000   91.000000  \n",
       "75%    679.250000   4.220000   5.750000  13.000000  46.750000   96.750000  \n",
       "max    799.000000   5.040000  11.000000  21.000000  62.000000  126.000000  "
      ]
     },
     "execution_count": 133,
     "metadata": {},
     "output_type": "execute_result"
    }
   ],
   "source": [
    "df.describe()"
   ]
  },
  {
   "cell_type": "code",
   "execution_count": 134,
   "id": "b5b689cd",
   "metadata": {},
   "outputs": [],
   "source": [
    "#checking for null values"
   ]
  },
  {
   "cell_type": "code",
   "execution_count": 135,
   "id": "c3ce97bb",
   "metadata": {},
   "outputs": [
    {
     "data": {
      "text/plain": [
       "W      0\n",
       "R      0\n",
       "AB     0\n",
       "H      0\n",
       "2B     0\n",
       "3B     0\n",
       "HR     0\n",
       "BB     0\n",
       "SO     0\n",
       "SB     0\n",
       "RA     0\n",
       "ER     0\n",
       "ERA    0\n",
       "CG     0\n",
       "SHO    0\n",
       "SV     0\n",
       "E      0\n",
       "dtype: int64"
      ]
     },
     "execution_count": 135,
     "metadata": {},
     "output_type": "execute_result"
    }
   ],
   "source": [
    "df.isnull().sum()"
   ]
  },
  {
   "cell_type": "code",
   "execution_count": 136,
   "id": "bc1b9a41",
   "metadata": {},
   "outputs": [],
   "source": [
    "#visuallizing the null values with heatmap"
   ]
  },
  {
   "cell_type": "code",
   "execution_count": 137,
   "id": "4b738267",
   "metadata": {},
   "outputs": [
    {
     "data": {
      "text/plain": [
       "<AxesSubplot:>"
      ]
     },
     "execution_count": 137,
     "metadata": {},
     "output_type": "execute_result"
    },
    {
     "data": {
      "image/png": "[encoded data removed]",
      "text/plain": [
       "<Figure size 432x288 with 2 Axes>"
      ]
     },
     "metadata": {
      "needs_background": "light"
     },
     "output_type": "display_data"
    }
   ],
   "source": [
    "sns.heatmap(df.isnull())"
   ]
  },
  {
   "cell_type": "markdown",
   "id": "19f331aa",
   "metadata": {},
   "source": [
    "no missing values in the data"
   ]
  },
  {
   "cell_type": "code",
   "execution_count": 138,
   "id": "7dcd77ad",
   "metadata": {},
   "outputs": [
    {
     "data": {
      "text/plain": [
       "<AxesSubplot:xlabel='W', ylabel='count'>"
      ]
     },
     "execution_count": 138,
     "metadata": {},
     "output_type": "execute_result"
    },
    {
     "data": {
      "image/png": "[encoded data removed]",
      "text/plain": [
       "<Figure size 432x288 with 1 Axes>"
      ]
     },
     "metadata": {
      "needs_background": "light"
     },
     "output_type": "display_data"
    }
   ],
   "source": [
    "sns.countplot(df['W'])"
   ]
  },
  {
   "cell_type": "markdown",
   "id": "04241dac",
   "metadata": {},
   "source": [
    "from the plot, we can see that 3 teams win at a count of 68 in the year 2014"
   ]
  },
  {
   "cell_type": "code",
   "execution_count": 139,
   "id": "d208ae0a",
   "metadata": {},
   "outputs": [
    {
     "data": {
      "text/plain": [
       "24"
      ]
     },
     "execution_count": 139,
     "metadata": {},
     "output_type": "execute_result"
    }
   ],
   "source": [
    "df['W'].nunique()"
   ]
  },
  {
   "cell_type": "markdown",
   "id": "b28c1060",
   "metadata": {},
   "source": [
    "There are 24 unique values of Wins got by team "
   ]
  },
  {
   "cell_type": "code",
   "execution_count": 140,
   "id": "c055c4a4",
   "metadata": {},
   "outputs": [
    {
     "data": {
      "text/plain": [
       "28"
      ]
     },
     "execution_count": 140,
     "metadata": {},
     "output_type": "execute_result"
    }
   ],
   "source": [
    "df['R'].nunique()"
   ]
  },
  {
   "cell_type": "markdown",
   "id": "3bc206ce",
   "metadata": {},
   "source": [
    "28 unique count of run made by teams"
   ]
  },
  {
   "cell_type": "code",
   "execution_count": 141,
   "id": "6417b811",
   "metadata": {},
   "outputs": [
    {
     "data": {
      "text/plain": [
       "<AxesSubplot:xlabel='R', ylabel='count'>"
      ]
     },
     "execution_count": 141,
     "metadata": {},
     "output_type": "execute_result"
    },
    {
     "data": {
      "image/png": "[encoded data removed]",
      "text/plain": [
       "<Figure size 432x288 with 1 Axes>"
      ]
     },
     "metadata": {
      "needs_background": "light"
     },
     "output_type": "display_data"
    }
   ],
   "source": [
    "sns.countplot(df['R'])"
   ]
  },
  {
   "cell_type": "markdown",
   "id": "e60356be",
   "metadata": {},
   "source": [
    "2 teams made the same runs "
   ]
  },
  {
   "cell_type": "code",
   "execution_count": 142,
   "id": "260ae585",
   "metadata": {},
   "outputs": [
    {
     "data": {
      "text/plain": [
       "<AxesSubplot:xlabel='AB', ylabel='count'>"
      ]
     },
     "execution_count": 142,
     "metadata": {},
     "output_type": "execute_result"
    },
    {
     "data": {
      "image/png": "[encoded data removed]",
      "text/plain": [
       "<Figure size 432x288 with 1 Axes>"
      ]
     },
     "metadata": {
      "needs_background": "light"
     },
     "output_type": "display_data"
    }
   ],
   "source": [
    "sns.countplot(df['AB'])"
   ]
  },
  {
   "cell_type": "markdown",
   "id": "44297f3a",
   "metadata": {},
   "source": [
    "only 2 teams has the same count of at bat position"
   ]
  },
  {
   "cell_type": "code",
   "execution_count": 143,
   "id": "c3973b51",
   "metadata": {},
   "outputs": [
    {
     "data": {
      "text/plain": [
       "<AxesSubplot:xlabel='H', ylabel='count'>"
      ]
     },
     "execution_count": 143,
     "metadata": {},
     "output_type": "execute_result"
    },
    {
     "data": {
      "image/png": "[encoded data removed]",
      "text/plain": [
       "<Figure size 432x288 with 1 Axes>"
      ]
     },
     "metadata": {
      "needs_background": "light"
     },
     "output_type": "display_data"
    }
   ],
   "source": [
    "sns.countplot(df['H'])"
   ]
  },
  {
   "cell_type": "markdown",
   "id": "35bf1b22",
   "metadata": {},
   "source": [
    "2 teams made the same numnber of hits."
   ]
  },
  {
   "cell_type": "code",
   "execution_count": 144,
   "id": "bc2af529",
   "metadata": {},
   "outputs": [
    {
     "data": {
      "text/plain": [
       "<AxesSubplot:xlabel='2B', ylabel='count'>"
      ]
     },
     "execution_count": 144,
     "metadata": {},
     "output_type": "execute_result"
    },
    {
     "data": {
      "image/png": "[encoded data removed]",
      "text/plain": [
       "<Figure size 432x288 with 1 Axes>"
      ]
     },
     "metadata": {
      "needs_background": "light"
     },
     "output_type": "display_data"
    }
   ],
   "source": [
    "sns.countplot(df['2B'])"
   ]
  },
  {
   "cell_type": "code",
   "execution_count": 145,
   "id": "e6620e61",
   "metadata": {},
   "outputs": [
    {
     "data": {
      "text/plain": [
       "<AxesSubplot:xlabel='3B', ylabel='count'>"
      ]
     },
     "execution_count": 145,
     "metadata": {},
     "output_type": "execute_result"
    },
    {
     "data": {
      "image/png": "[encoded data removed]",
      "text/plain": [
       "<Figure size 432x288 with 1 Axes>"
      ]
     },
     "metadata": {
      "needs_background": "light"
     },
     "output_type": "display_data"
    }
   ],
   "source": [
    "sns.countplot(df['3B'])"
   ]
  },
  {
   "cell_type": "code",
   "execution_count": 146,
   "id": "50fdc554",
   "metadata": {},
   "outputs": [
    {
     "data": {
      "text/plain": [
       "<AxesSubplot:xlabel='HR', ylabel='count'>"
      ]
     },
     "execution_count": 146,
     "metadata": {},
     "output_type": "execute_result"
    },
    {
     "data": {
      "image/png": "[encoded data removed]",
      "text/plain": [
       "<Figure size 432x288 with 1 Axes>"
      ]
     },
     "metadata": {
      "needs_background": "light"
     },
     "output_type": "display_data"
    }
   ],
   "source": [
    "sns.countplot(df['HR'])"
   ]
  },
  {
   "cell_type": "markdown",
   "id": "82a785ce",
   "metadata": {},
   "source": [
    "2 teams scored the same number of home runs"
   ]
  },
  {
   "cell_type": "code",
   "execution_count": 147,
   "id": "d39741f9",
   "metadata": {},
   "outputs": [
    {
     "data": {
      "text/plain": [
       "<AxesSubplot:xlabel='BB', ylabel='count'>"
      ]
     },
     "execution_count": 147,
     "metadata": {},
     "output_type": "execute_result"
    },
    {
     "data": {
      "image/png": "[encoded data removed]",
      "text/plain": [
       "<Figure size 432x288 with 1 Axes>"
      ]
     },
     "metadata": {
      "needs_background": "light"
     },
     "output_type": "display_data"
    }
   ],
   "source": [
    "sns.countplot(df['BB'])"
   ]
  },
  {
   "cell_type": "code",
   "execution_count": 148,
   "id": "3aff2fbd",
   "metadata": {},
   "outputs": [
    {
     "data": {
      "text/plain": [
       "<AxesSubplot:xlabel='SO', ylabel='count'>"
      ]
     },
     "execution_count": 148,
     "metadata": {},
     "output_type": "execute_result"
    },
    {
     "data": {
      "image/png": "[encoded data removed]",
      "text/plain": [
       "<Figure size 432x288 with 1 Axes>"
      ]
     },
     "metadata": {
      "needs_background": "light"
     },
     "output_type": "display_data"
    }
   ],
   "source": [
    "sns.countplot(df['SO'])"
   ]
  },
  {
   "cell_type": "code",
   "execution_count": 149,
   "id": "fdf82bf1",
   "metadata": {},
   "outputs": [
    {
     "data": {
      "text/plain": [
       "<AxesSubplot:xlabel='SB', ylabel='count'>"
      ]
     },
     "execution_count": 149,
     "metadata": {},
     "output_type": "execute_result"
    },
    {
     "data": {
      "image/png": "[encoded data removed]",
      "text/plain": [
       "<Figure size 432x288 with 1 Axes>"
      ]
     },
     "metadata": {
      "needs_background": "light"
     },
     "output_type": "display_data"
    }
   ],
   "source": [
    "sns.countplot(df['SB'])"
   ]
  },
  {
   "cell_type": "code",
   "execution_count": 150,
   "id": "37677c1d",
   "metadata": {},
   "outputs": [
    {
     "data": {
      "text/plain": [
       "<AxesSubplot:xlabel='RA', ylabel='count'>"
      ]
     },
     "execution_count": 150,
     "metadata": {},
     "output_type": "execute_result"
    },
    {
     "data": {
      "image/png": "[encoded data removed]",
      "text/plain": [
       "<Figure size 432x288 with 1 Axes>"
      ]
     },
     "metadata": {
      "needs_background": "light"
     },
     "output_type": "display_data"
    }
   ],
   "source": [
    "sns.countplot(df['RA'])"
   ]
  },
  {
   "cell_type": "code",
   "execution_count": 151,
   "id": "5b281f8d",
   "metadata": {},
   "outputs": [
    {
     "data": {
      "text/plain": [
       "<AxesSubplot:xlabel='ER', ylabel='count'>"
      ]
     },
     "execution_count": 151,
     "metadata": {},
     "output_type": "execute_result"
    },
    {
     "data": {
      "image/png": "[encoded data removed]",
      "text/plain": [
       "<Figure size 432x288 with 1 Axes>"
      ]
     },
     "metadata": {
      "needs_background": "light"
     },
     "output_type": "display_data"
    }
   ],
   "source": [
    "sns.countplot(df['ER'])"
   ]
  },
  {
   "cell_type": "code",
   "execution_count": 152,
   "id": "1a2ac992",
   "metadata": {},
   "outputs": [
    {
     "data": {
      "text/plain": [
       "<AxesSubplot:xlabel='ERA', ylabel='count'>"
      ]
     },
     "execution_count": 152,
     "metadata": {},
     "output_type": "execute_result"
    },
    {
     "data": {
      "image/png": "[encoded data removed]",
      "text/plain": [
       "<Figure size 432x288 with 1 Axes>"
      ]
     },
     "metadata": {
      "needs_background": "light"
     },
     "output_type": "display_data"
    }
   ],
   "source": [
    "sns.countplot(df['ERA'])"
   ]
  },
  {
   "cell_type": "code",
   "execution_count": 153,
   "id": "4ac55aba",
   "metadata": {},
   "outputs": [
    {
     "data": {
      "text/plain": [
       "<AxesSubplot:xlabel='CG', ylabel='count'>"
      ]
     },
     "execution_count": 153,
     "metadata": {},
     "output_type": "execute_result"
    },
    {
     "data": {
      "image/png": "[encoded data removed]",
      "text/plain": [
       "<Figure size 432x288 with 1 Axes>"
      ]
     },
     "metadata": {
      "needs_background": "light"
     },
     "output_type": "display_data"
    }
   ],
   "source": [
    "sns.countplot(df['CG'])"
   ]
  },
  {
   "cell_type": "code",
   "execution_count": 154,
   "id": "bacbe5ee",
   "metadata": {},
   "outputs": [
    {
     "data": {
      "text/plain": [
       "<AxesSubplot:xlabel='SHO', ylabel='count'>"
      ]
     },
     "execution_count": 154,
     "metadata": {},
     "output_type": "execute_result"
    },
    {
     "data": {
      "image/png": "[encoded data removed]",
      "text/plain": [
       "<Figure size 432x288 with 1 Axes>"
      ]
     },
     "metadata": {
      "needs_background": "light"
     },
     "output_type": "display_data"
    }
   ],
   "source": [
    "sns.countplot(df['SHO'])"
   ]
  },
  {
   "cell_type": "code",
   "execution_count": 155,
   "id": "02e5c048",
   "metadata": {},
   "outputs": [
    {
     "data": {
      "text/plain": [
       "<AxesSubplot:xlabel='SV', ylabel='count'>"
      ]
     },
     "execution_count": 155,
     "metadata": {},
     "output_type": "execute_result"
    },
    {
     "data": {
      "image/png": "[encoded data removed]",
      "text/plain": [
       "<Figure size 432x288 with 1 Axes>"
      ]
     },
     "metadata": {
      "needs_background": "light"
     },
     "output_type": "display_data"
    }
   ],
   "source": [
    "sns.countplot(df['SV'])"
   ]
  },
  {
   "cell_type": "code",
   "execution_count": 156,
   "id": "a21f5741",
   "metadata": {},
   "outputs": [
    {
     "data": {
      "text/plain": [
       "<AxesSubplot:xlabel='E', ylabel='count'>"
      ]
     },
     "execution_count": 156,
     "metadata": {},
     "output_type": "execute_result"
    },
    {
     "data": {
      "image/png": "[encoded data removed]",
      "text/plain": [
       "<Figure size 432x288 with 1 Axes>"
      ]
     },
     "metadata": {
      "needs_background": "light"
     },
     "output_type": "display_data"
    }
   ],
   "source": [
    "sns.countplot(df['E'])"
   ]
  },
  {
   "cell_type": "code",
   "execution_count": 157,
   "id": "8e1ad14e",
   "metadata": {},
   "outputs": [
    {
     "data": {
      "text/plain": [
       "891"
      ]
     },
     "execution_count": 157,
     "metadata": {},
     "output_type": "execute_result"
    }
   ],
   "source": [
    "df[\"R\"].max()"
   ]
  },
  {
   "cell_type": "markdown",
   "id": "5b077887",
   "metadata": {},
   "source": [
    "891 is the highest run made by teams"
   ]
  },
  {
   "cell_type": "code",
   "execution_count": 158,
   "id": "43d00f98",
   "metadata": {},
   "outputs": [
    {
     "data": {
      "text/plain": [
       "573"
      ]
     },
     "execution_count": 158,
     "metadata": {},
     "output_type": "execute_result"
    }
   ],
   "source": [
    "df[\"R\"].min()"
   ]
  },
  {
   "cell_type": "markdown",
   "id": "6e1733f6",
   "metadata": {},
   "source": [
    "lowest run is 573"
   ]
  },
  {
   "cell_type": "code",
   "execution_count": 159,
   "id": "fcdd90b0",
   "metadata": {},
   "outputs": [
    {
     "data": {
      "text/plain": [
       "100"
      ]
     },
     "execution_count": 159,
     "metadata": {},
     "output_type": "execute_result"
    }
   ],
   "source": [
    "df['W'].max()"
   ]
  },
  {
   "cell_type": "markdown",
   "id": "e0b383ed",
   "metadata": {},
   "source": [
    "maximum no of win is 100 by the team"
   ]
  },
  {
   "cell_type": "code",
   "execution_count": 160,
   "id": "1501270c",
   "metadata": {},
   "outputs": [
    {
     "data": {
      "text/plain": [
       "63"
      ]
     },
     "execution_count": 160,
     "metadata": {},
     "output_type": "execute_result"
    }
   ],
   "source": [
    "df['W'].min()"
   ]
  },
  {
   "cell_type": "markdown",
   "id": "1c6053f2",
   "metadata": {},
   "source": [
    "minimum win is 63"
   ]
  },
  {
   "cell_type": "code",
   "execution_count": 161,
   "id": "e5ab9bab",
   "metadata": {},
   "outputs": [],
   "source": [
    "#visuallizing the the data by distribution plot"
   ]
  },
  {
   "cell_type": "code",
   "execution_count": 162,
   "id": "1f9cf543",
   "metadata": {},
   "outputs": [
    {
     "data": {
      "text/plain": [
       "<AxesSubplot:xlabel='R', ylabel='Density'>"
      ]
     },
     "execution_count": 162,
     "metadata": {},
     "output_type": "execute_result"
    },
    {
     "data": {
      "image/png": "[encoded data removed]",
      "text/plain": [
       "<Figure size 432x288 with 1 Axes>"
      ]
     },
     "metadata": {
      "needs_background": "light"
     },
     "output_type": "display_data"
    }
   ],
   "source": [
    "sns.distplot(df['R'])"
   ]
  },
  {
   "cell_type": "code",
   "execution_count": 163,
   "id": "faf6ff98",
   "metadata": {},
   "outputs": [
    {
     "data": {
      "text/plain": [
       "<AxesSubplot:xlabel='AB', ylabel='Density'>"
      ]
     },
     "execution_count": 163,
     "metadata": {},
     "output_type": "execute_result"
    },
    {
     "data": {
      "image/png": "[encoded data removed]",
      "text/plain": [
       "<Figure size 432x288 with 1 Axes>"
      ]
     },
     "metadata": {
      "needs_background": "light"
     },
     "output_type": "display_data"
    }
   ],
   "source": [
    "sns.distplot(df['AB'])"
   ]
  },
  {
   "cell_type": "code",
   "execution_count": 164,
   "id": "f24ffe84",
   "metadata": {},
   "outputs": [
    {
     "data": {
      "text/plain": [
       "<AxesSubplot:xlabel='H', ylabel='Density'>"
      ]
     },
     "execution_count": 164,
     "metadata": {},
     "output_type": "execute_result"
    },
    {
     "data": {
      "image/png": "[encoded data removed]",
      "text/plain": [
       "<Figure size 432x288 with 1 Axes>"
      ]
     },
     "metadata": {
      "needs_background": "light"
     },
     "output_type": "display_data"
    }
   ],
   "source": [
    "sns.distplot(df['H'])"
   ]
  },
  {
   "cell_type": "code",
   "execution_count": 165,
   "id": "28852749",
   "metadata": {},
   "outputs": [
    {
     "data": {
      "text/plain": [
       "<AxesSubplot:xlabel='2B', ylabel='Density'>"
      ]
     },
     "execution_count": 165,
     "metadata": {},
     "output_type": "execute_result"
    },
    {
     "data": {
      "image/png": "[encoded data removed]",
      "text/plain": [
       "<Figure size 432x288 with 1 Axes>"
      ]
     },
     "metadata": {
      "needs_background": "light"
     },
     "output_type": "display_data"
    }
   ],
   "source": [
    "sns.distplot(df['2B'])"
   ]
  },
  {
   "cell_type": "code",
   "execution_count": 166,
   "id": "a2af6067",
   "metadata": {},
   "outputs": [
    {
     "data": {
      "text/plain": [
       "<AxesSubplot:xlabel='3B', ylabel='Density'>"
      ]
     },
     "execution_count": 166,
     "metadata": {},
     "output_type": "execute_result"
    },
    {
     "data": {
      "image/png": "[encoded data removed]",
      "text/plain": [
       "<Figure size 432x288 with 1 Axes>"
      ]
     },
     "metadata": {
      "needs_background": "light"
     },
     "output_type": "display_data"
    }
   ],
   "source": [
    "sns.distplot(df['3B'])"
   ]
  },
  {
   "cell_type": "code",
   "execution_count": 167,
   "id": "949b113f",
   "metadata": {},
   "outputs": [
    {
     "data": {
      "text/plain": [
       "<AxesSubplot:xlabel='HR', ylabel='Density'>"
      ]
     },
     "execution_count": 167,
     "metadata": {},
     "output_type": "execute_result"
    },
    {
     "data": {
      "image/png": "[encoded data removed]",
      "text/plain": [
       "<Figure size 432x288 with 1 Axes>"
      ]
     },
     "metadata": {
      "needs_background": "light"
     },
     "output_type": "display_data"
    }
   ],
   "source": [
    "sns.distplot(df['HR'])"
   ]
  },
  {
   "cell_type": "code",
   "execution_count": 168,
   "id": "1a4050dc",
   "metadata": {},
   "outputs": [
    {
     "data": {
      "text/plain": [
       "<AxesSubplot:xlabel='BB', ylabel='Density'>"
      ]
     },
     "execution_count": 168,
     "metadata": {},
     "output_type": "execute_result"
    },
    {
     "data": {
      "image/png": "[encoded data removed]",
      "text/plain": [
       "<Figure size 432x288 with 1 Axes>"
      ]
     },
     "metadata": {
      "needs_background": "light"
     },
     "output_type": "display_data"
    }
   ],
   "source": [
    "sns.distplot(df['BB'])"
   ]
  },
  {
   "cell_type": "code",
   "execution_count": 169,
   "id": "232b4103",
   "metadata": {},
   "outputs": [
    {
     "data": {
      "text/plain": [
       "<AxesSubplot:xlabel='SO', ylabel='Density'>"
      ]
     },
     "execution_count": 169,
     "metadata": {},
     "output_type": "execute_result"
    },
    {
     "data": {
      "image/png": "[encoded data removed]",
      "text/plain": [
       "<Figure size 432x288 with 1 Axes>"
      ]
     },
     "metadata": {
      "needs_background": "light"
     },
     "output_type": "display_data"
    }
   ],
   "source": [
    "sns.distplot(df['SO'])"
   ]
  },
  {
   "cell_type": "code",
   "execution_count": 170,
   "id": "5d116a14",
   "metadata": {},
   "outputs": [
    {
     "data": {
      "text/plain": [
       "<AxesSubplot:xlabel='SB', ylabel='Density'>"
      ]
     },
     "execution_count": 170,
     "metadata": {},
     "output_type": "execute_result"
    },
    {
     "data": {
      "image/png": "[encoded data removed]",
      "text/plain": [
       "<Figure size 432x288 with 1 Axes>"
      ]
     },
     "metadata": {
      "needs_background": "light"
     },
     "output_type": "display_data"
    }
   ],
   "source": [
    "sns.distplot(df['SB'])"
   ]
  },
  {
   "cell_type": "code",
   "execution_count": 171,
   "id": "8ff81908",
   "metadata": {},
   "outputs": [
    {
     "data": {
      "text/plain": [
       "<AxesSubplot:xlabel='RA', ylabel='Density'>"
      ]
     },
     "execution_count": 171,
     "metadata": {},
     "output_type": "execute_result"
    },
    {
     "data": {
      "image/png": "[encoded data removed]",
      "text/plain": [
       "<Figure size 432x288 with 1 Axes>"
      ]
     },
     "metadata": {
      "needs_background": "light"
     },
     "output_type": "display_data"
    }
   ],
   "source": [
    "sns.distplot(df['RA'])"
   ]
  },
  {
   "cell_type": "code",
   "execution_count": 172,
   "id": "8b52b527",
   "metadata": {},
   "outputs": [
    {
     "data": {
      "text/plain": [
       "<AxesSubplot:xlabel='ER', ylabel='Density'>"
      ]
     },
     "execution_count": 172,
     "metadata": {},
     "output_type": "execute_result"
    },
    {
     "data": {
      "image/png": "[encoded data removed]",
      "text/plain": [
       "<Figure size 432x288 with 1 Axes>"
      ]
     },
     "metadata": {
      "needs_background": "light"
     },
     "output_type": "display_data"
    }
   ],
   "source": [
    "sns.distplot(df['ER'])"
   ]
  },
  {
   "cell_type": "code",
   "execution_count": 173,
   "id": "240a33cb",
   "metadata": {},
   "outputs": [
    {
     "data": {
      "text/plain": [
       "<AxesSubplot:xlabel='ERA', ylabel='Density'>"
      ]
     },
     "execution_count": 173,
     "metadata": {},
     "output_type": "execute_result"
    },
    {
     "data": {
      "image/png": "[encoded data removed]",
      "text/plain": [
       "<Figure size 432x288 with 1 Axes>"
      ]
     },
     "metadata": {
      "needs_background": "light"
     },
     "output_type": "display_data"
    }
   ],
   "source": [
    "sns.distplot(df['ERA'])"
   ]
  },
  {
   "cell_type": "code",
   "execution_count": 174,
   "id": "d5ff4058",
   "metadata": {},
   "outputs": [
    {
     "data": {
      "text/plain": [
       "<AxesSubplot:xlabel='CG', ylabel='Density'>"
      ]
     },
     "execution_count": 174,
     "metadata": {},
     "output_type": "execute_result"
    },
    {
     "data": {
      "image/png": "[encoded data removed]",
      "text/plain": [
       "<Figure size 432x288 with 1 Axes>"
      ]
     },
     "metadata": {
      "needs_background": "light"
     },
     "output_type": "display_data"
    }
   ],
   "source": [
    "sns.distplot(df['CG'])"
   ]
  },
  {
   "cell_type": "code",
   "execution_count": 175,
   "id": "718a5868",
   "metadata": {},
   "outputs": [
    {
     "data": {
      "text/plain": [
       "<AxesSubplot:xlabel='SHO', ylabel='Density'>"
      ]
     },
     "execution_count": 175,
     "metadata": {},
     "output_type": "execute_result"
    },
    {
     "data": {
      "image/png": "[encoded data removed]",
      "text/plain": [
       "<Figure size 432x288 with 1 Axes>"
      ]
     },
     "metadata": {
      "needs_background": "light"
     },
     "output_type": "display_data"
    }
   ],
   "source": [
    "sns.distplot(df['SHO'])"
   ]
  },
  {
   "cell_type": "code",
   "execution_count": 176,
   "id": "536de80d",
   "metadata": {},
   "outputs": [
    {
     "data": {
      "text/plain": [
       "<AxesSubplot:xlabel='SV', ylabel='Density'>"
      ]
     },
     "execution_count": 176,
     "metadata": {},
     "output_type": "execute_result"
    },
    {
     "data": {
      "image/png": "[encoded data removed]",
      "text/plain": [
       "<Figure size 432x288 with 1 Axes>"
      ]
     },
     "metadata": {
      "needs_background": "light"
     },
     "output_type": "display_data"
    }
   ],
   "source": [
    "sns.distplot(df['SV'])"
   ]
  },
  {
   "cell_type": "markdown",
   "id": "251b6005",
   "metadata": {},
   "source": [
    "from the distribution grap of all the columns, we can observe that skewness is there"
   ]
  },
  {
   "cell_type": "code",
   "execution_count": 177,
   "id": "86d9e52b",
   "metadata": {},
   "outputs": [],
   "source": [
    "#checking the skewness"
   ]
  },
  {
   "cell_type": "code",
   "execution_count": 178,
   "id": "2fba3d82",
   "metadata": {},
   "outputs": [
    {
     "data": {
      "text/plain": [
       "W      0.047089\n",
       "R      1.200786\n",
       "AB     0.183437\n",
       "H      0.670254\n",
       "2B    -0.230650\n",
       "3B     0.129502\n",
       "HR     0.516441\n",
       "BB     0.158498\n",
       "SO    -0.156065\n",
       "SB     0.479893\n",
       "RA     0.045734\n",
       "ER     0.058710\n",
       "ERA    0.053331\n",
       "CG     0.736845\n",
       "SHO    0.565790\n",
       "SV     0.657524\n",
       "E      0.890132\n",
       "dtype: float64"
      ]
     },
     "execution_count": 178,
     "metadata": {},
     "output_type": "execute_result"
    }
   ],
   "source": [
    "df.skew()"
   ]
  },
  {
   "cell_type": "code",
   "execution_count": 179,
   "id": "98149653",
   "metadata": {},
   "outputs": [],
   "source": [
    "#visuallizing the outliers with box plot"
   ]
  },
  {
   "cell_type": "code",
   "execution_count": 180,
   "id": "b788066d",
   "metadata": {},
   "outputs": [
    {
     "data": {
      "text/plain": [
       "W         AxesSubplot(0.125,0.772143;0.227941x0.107857)\n",
       "R      AxesSubplot(0.398529,0.772143;0.227941x0.107857)\n",
       "AB     AxesSubplot(0.672059,0.772143;0.227941x0.107857)\n",
       "H         AxesSubplot(0.125,0.642714;0.227941x0.107857)\n",
       "2B     AxesSubplot(0.398529,0.642714;0.227941x0.107857)\n",
       "3B     AxesSubplot(0.672059,0.642714;0.227941x0.107857)\n",
       "HR        AxesSubplot(0.125,0.513286;0.227941x0.107857)\n",
       "BB     AxesSubplot(0.398529,0.513286;0.227941x0.107857)\n",
       "SO     AxesSubplot(0.672059,0.513286;0.227941x0.107857)\n",
       "SB        AxesSubplot(0.125,0.383857;0.227941x0.107857)\n",
       "RA     AxesSubplot(0.398529,0.383857;0.227941x0.107857)\n",
       "ER     AxesSubplot(0.672059,0.383857;0.227941x0.107857)\n",
       "ERA       AxesSubplot(0.125,0.254429;0.227941x0.107857)\n",
       "CG     AxesSubplot(0.398529,0.254429;0.227941x0.107857)\n",
       "SHO    AxesSubplot(0.672059,0.254429;0.227941x0.107857)\n",
       "SV           AxesSubplot(0.125,0.125;0.227941x0.107857)\n",
       "E         AxesSubplot(0.398529,0.125;0.227941x0.107857)\n",
       "dtype: object"
      ]
     },
     "execution_count": 180,
     "metadata": {},
     "output_type": "execute_result"
    },
    {
     "data": {
      "image/png": "[encoded data removed]",
      "text/plain": [
       "<Figure size 720x1440 with 18 Axes>"
      ]
     },
     "metadata": {
      "needs_background": "light"
     },
     "output_type": "display_data"
    }
   ],
   "source": [
    "df.plot(kind='box',subplots=True, layout=(6,3),figsize=(10,20))"
   ]
  },
  {
   "cell_type": "markdown",
   "id": "27bd395c",
   "metadata": {},
   "source": [
    "outliers are present in the columns : R, SHO, ERA, SV, E"
   ]
  },
  {
   "cell_type": "code",
   "execution_count": 181,
   "id": "eba7b179",
   "metadata": {},
   "outputs": [],
   "source": [
    "#removing outliers using zscore"
   ]
  },
  {
   "cell_type": "code",
   "execution_count": 182,
   "id": "8731fbfd",
   "metadata": {},
   "outputs": [
    {
     "data": {
      "text/plain": [
       "array([[1.36540860e+00, 6.19077968e-01, 8.47731264e-01, 1.66368512e+00,\n",
       "        1.42017307e+00, 1.04119304e+00, 7.87298598e-01, 1.53490242e+00,\n",
       "        2.69762957e+00, 9.13883291e-01, 6.66233927e-01, 5.05110079e-01,\n",
       "        5.06955186e-01, 5.39806195e-01, 8.14628593e-01, 1.67160651e+00,\n",
       "        4.61469635e-01],\n",
       "       [1.97838300e-01, 1.34431656e-01, 7.11093535e-01, 9.70680764e-01,\n",
       "        1.27403389e-01, 1.23580856e+00, 2.43966683e-01, 5.36591904e-01,\n",
       "        1.54878442e-01, 6.01825582e-01, 1.65970766e-01, 2.48929848e-01,\n",
       "        2.54597523e-01, 5.39806195e-01, 1.72800005e-01, 2.49879323e-01,\n",
       "        6.07196888e-01],\n",
       "       [3.24325082e-03, 3.32905860e-01, 1.11523330e+00, 1.51891367e-01,\n",
       "        1.58879521e+00, 2.23807850e-01, 7.23377196e-01, 1.13914361e+00,\n",
       "        8.93981893e-01, 1.11449182e-01, 6.80339091e-01, 7.51623132e-01,\n",
       "        6.41346840e-01, 2.77264091e+00, 3.20914294e-01, 6.54856158e-01,\n",
       "        1.11724227e+00],\n",
       "       [4.83244373e-01, 1.14641931e+00, 2.41521620e-01, 4.01088140e-01,\n",
       "        8.28122030e-01, 4.18423371e-01, 8.83180700e-01, 1.16053598e+00,\n",
       "        1.68601848e-01, 6.90984928e-01, 1.80075931e-01, 1.03922169e-01,\n",
       "        5.30100415e-02, 1.30044220e+00, 5.67771443e-01, 7.84104084e-01,\n",
       "        4.85757510e-01],\n",
       "       [6.77839422e-01, 1.32700776e-02, 1.28073815e+00, 1.98408098e+00,\n",
       "        8.01891920e-01, 1.72234737e+00, 4.03770187e-01, 2.51360327e-01,\n",
       "        1.05866277e-01, 2.22898364e-02, 1.61880269e+00, 1.59750126e+00,\n",
       "        1.53131824e+00, 1.30044220e+00, 1.72800005e-01, 1.04259994e+00,\n",
       "        6.07196888e-01],\n",
       "       [1.17081355e+00, 3.50964704e+00, 1.04883891e-01, 1.36108904e+00,\n",
       "        1.86983209e+00, 1.39150098e+00, 2.18504658e+00, 1.79874163e+00,\n",
       "        9.52796491e-01, 2.00608527e-01, 2.57184162e-01, 3.89103937e-01,\n",
       "        3.50164922e-01, 1.30044220e+00, 3.20914294e-01, 1.17184786e+00,\n",
       "        4.61469635e-01],\n",
       "       [5.87028399e-01, 1.31142984e+00, 7.32262760e-01, 1.16291827e-01,\n",
       "        1.53633499e-01, 1.19688546e+00, 1.54583256e+00, 1.51351006e+00,\n",
       "        2.07811580e-01, 9.13883291e-01, 1.37760438e-01, 2.34429080e-01,\n",
       "        1.65003087e-01, 1.71756517e-01, 1.80205719e+00, 6.37623101e-01,\n",
       "        9.71515020e-02],\n",
       "       [3.24325082e-03, 4.28681202e-01, 4.51289401e-01, 5.96885604e-01,\n",
       "        1.61502532e+00, 1.09957770e+00, 1.70563607e+00, 9.10958349e-01,\n",
       "        8.11641456e-01, 1.76089707e+00, 6.72346164e-02, 1.47424473e-01,\n",
       "        2.09800305e-01, 1.27590555e+00, 3.20914294e-01, 8.61652840e-03,\n",
       "        1.26296953e+00],\n",
       "       [9.40542739e-02, 7.65625781e-01, 4.51289401e-01, 3.65488601e-01,\n",
       "        1.83610767e-01, 6.81154325e-02, 1.07601026e-01, 5.90072825e-01,\n",
       "        6.05790362e-01, 1.56028855e-01, 6.52128762e-01, 4.61607776e-01,\n",
       "        4.84556577e-01, 9.07855874e-01, 1.72800005e-01, 2.18859821e+00,\n",
       "        4.85757510e-02],\n",
       "       [2.88649323e-01, 1.03448909e+00, 1.78591286e+00, 1.62808558e+00,\n",
       "        1.08292881e+00, 1.65423193e-01, 8.41631789e-02, 1.58660065e-01,\n",
       "        9.82203790e-01, 5.57245909e-01, 9.13544474e-01, 8.43461329e-01,\n",
       "        7.92164142e-01, 1.71756517e-01, 3.20914294e-01, 3.96360306e-01,\n",
       "        1.94303004e-01],\n",
       "       [6.84325924e-01, 1.08641548e+00, 7.60167649e-02, 2.75303102e-01,\n",
       "        2.39818144e-01, 6.81154325e-02, 2.67404530e-01, 6.04334404e-01,\n",
       "        1.48996982e-01, 7.80144273e-01, 6.31441188e-01, 6.40450579e-01,\n",
       "        6.35373878e-01, 5.64342841e-01, 5.67771443e-01, 2.49879323e-01,\n",
       "        1.79730279e+00],\n",
       "       [4.89730874e-01, 7.05621952e-01, 8.26562038e-01, 7.21483991e-01,\n",
       "        1.83610767e-01, 5.15731132e-01, 2.12112518e+00, 3.01275853e-01,\n",
       "        1.40958987e+00, 1.67173773e+00, 9.90652705e-01, 9.25632346e-01,\n",
       "        8.65332931e-01, 5.64342841e-01, 4.19657154e-01, 5.25608232e-01,\n",
       "        6.80060514e-01],\n",
       "       [3.92433350e-01, 4.71376235e-01, 1.43277168e+00, 1.29107662e+00,\n",
       "        1.78364745e+00, 1.00226994e+00, 3.95247334e-01, 6.07899799e-01,\n",
       "        9.62598924e-01, 1.40425969e+00, 1.86658341e-01, 8.45878123e-02,\n",
       "        3.65843948e-02, 5.39806195e-01, 1.72800005e-01, 3.79127249e-01,\n",
       "        9.71515020e-02],\n",
       "       [4.83244373e-01, 5.57920219e-01, 4.00290812e-01, 4.36687679e-01,\n",
       "        7.15707275e-01, 9.04962175e-01, 1.09838275e+00, 1.58660065e-01,\n",
       "        8.60653621e-01, 6.46405255e-01, 5.32705038e-01, 5.96948276e-01,\n",
       "        4.56185005e-01, 9.32392519e-01, 1.72800005e-01, 2.49879323e-01,\n",
       "        2.42878755e-02],\n",
       "       [1.26162457e+00, 9.98140619e-02, 1.20857034e+00, 2.61063286e-02,\n",
       "        1.27403389e-01, 1.43042408e+00, 5.63573692e-01, 1.05179144e-01,\n",
       "        1.26647435e+00, 2.45188200e-01, 5.75020531e-01, 4.08438294e-01,\n",
       "        4.11387787e-01, 5.64342841e-01, 9.13371452e-01, 1.94733542e+00,\n",
       "        2.30734817e+00],\n",
       "       [1.85189622e+00, 7.13699391e-01, 4.65722964e-01, 3.12089292e-01,\n",
       "        7.45684543e-01, 7.49269758e-01, 8.51219999e-01, 6.57815325e-01,\n",
       "        1.84285741e-01, 6.46405255e-01, 2.30243298e+00, 2.28870452e+00,\n",
       "        2.27644530e+00, 9.07855874e-01, 9.13371452e-01, 2.44709406e+00,\n",
       "        1.21439378e-01],\n",
       "       [1.65730117e+00, 1.51740453e-01, 1.65601079e+00, 1.04069319e+00,\n",
       "        9.70514053e-01, 4.18423371e-01, 7.55337897e-01, 1.44398486e-01,\n",
       "        7.23419558e-01, 6.46405255e-01, 1.30096632e+00, 1.50566306e+00,\n",
       "        1.67168286e+00, 1.27590555e+00, 4.19657154e-01, 1.41311066e+00,\n",
       "        2.01589367e+00],\n",
       "       [1.56000365e+00, 1.32700776e-02, 3.64688024e-01, 1.11307892e+00,\n",
       "        1.53633499e-01, 1.26500089e-01, 2.35443830e-01, 1.74526071e+00,\n",
       "        2.64469643e+00, 5.12666237e-01, 1.13170435e+00, 1.30265231e+00,\n",
       "        1.33570372e+00, 9.32392519e-01, 2.39451435e+00, 6.37623101e-01,\n",
       "        1.21439378e+00],\n",
       "       [1.26162457e+00, 5.75229016e-01, 5.23457216e-01, 4.54487448e-01,\n",
       "        4.12187436e-02, 2.62730954e-01, 5.95534393e-01, 1.01792019e+00,\n",
       "        4.97963598e-01, 2.22898364e-02, 6.87861845e-01, 6.69452115e-01,\n",
       "        7.24968314e-01, 9.07855874e-01, 1.06148574e+00, 3.96360306e-01,\n",
       "        1.57871191e+00],\n",
       "       [1.65081467e+00, 8.34860969e-01, 7.89997012e-01, 3.83288370e-01,\n",
       "        9.96744163e-01, 4.18423371e-01, 1.07601026e-01, 4.79545589e-01,\n",
       "        6.66565447e-02, 2.25127347e+00, 9.27649638e-01, 9.30465935e-01,\n",
       "        8.36961360e-01, 5.39806195e-01, 8.14628593e-01, 1.04259994e+00,\n",
       "        3.15742382e-01],\n",
       "       [8.78920973e-01, 9.05827036e-02, 1.54920242e-01, 9.35081225e-01,\n",
       "        1.13913619e+00, 1.39150098e+00, 4.27208035e-01, 3.36929800e-01,\n",
       "        4.09741701e-01, 1.44883936e+00, 1.06117853e+00, 1.14314386e+00,\n",
       "        1.17891346e+00, 9.07855874e-01, 6.66514303e-01, 8.96118953e-01,\n",
       "        4.61469635e-01],\n",
       "       [1.97838300e-01, 2.55593234e-01, 1.27400249e+00, 7.21483991e-01,\n",
       "        5.47085142e-01, 1.78073202e+00, 4.27208035e-01, 1.24610545e+00,\n",
       "        9.39073085e-01, 1.18136133e+00, 7.50864912e-01, 8.53128507e-01,\n",
       "        7.53339886e-01, 1.96293162e-01, 4.19657154e-01, 2.67112380e-01,\n",
       "        3.15742382e-01],\n",
       "       [9.69731996e-01, 1.30219848e+00, 7.68827786e-01, 2.93102871e-01,\n",
       "        2.17709909e+00, 8.46577519e-01, 1.39455191e+00, 1.67751821e+00,\n",
       "        9.62598924e-01, 1.27052067e+00, 1.44342848e-01, 3.14183303e-02,\n",
       "        1.42604478e-01, 1.27590555e+00, 1.72800005e-01, 1.04259994e+00,\n",
       "        1.26296953e+00],\n",
       "       [1.35892210e+00, 1.99455036e+00, 1.38947099e+00, 7.57083530e-01,\n",
       "        1.33398843e+00, 1.29419322e+00, 2.03376593e+00, 3.38712498e-02,\n",
       "        1.38410355e+00, 6.46405255e-01, 1.01228062e+00, 9.01464400e-01,\n",
       "        1.01615023e+00, 1.71756517e-01, 3.20914294e-01, 1.20631398e-01,\n",
       "        3.15742382e-01],\n",
       "       [1.74811219e+00, 1.07718413e+00, 1.83787368e-01, 5.25686526e-01,\n",
       "        1.53633499e-01, 5.54654236e-01, 1.07494491e+00, 1.46359453e+00,\n",
       "        2.52902772e-01, 2.00608527e-01, 1.70343367e+00, 1.64100356e+00,\n",
       "        1.64331129e+00, 9.07855874e-01, 1.06148574e+00, 1.04259994e+00,\n",
       "        1.65157553e+00],\n",
       "       [1.07351602e+00, 3.67523453e-01, 1.89464570e+00, 1.02408007e+00,\n",
       "        6.59499897e-01, 5.15731132e-01, 7.46815043e-01, 1.67395282e+00,\n",
       "        9.60638438e-02, 1.09220198e+00, 1.31507148e+00, 1.20114693e+00,\n",
       "        1.15651485e+00, 9.32392519e-01, 2.39451435e+00, 5.08375175e-01,\n",
       "        1.40869678e+00],\n",
       "       [2.95135825e-01, 1.34431656e-01, 7.03395634e-01, 1.46788766e+00,\n",
       "        7.45684543e-01, 7.49269758e-01, 8.83180700e-01, 2.15706380e-01,\n",
       "        8.74377027e-01, 4.23506891e-01, 8.63706227e-01, 5.63113151e-01,\n",
       "        5.29353795e-01, 1.30044220e+00, 1.65394290e+00, 2.67112380e-01,\n",
       "        1.19010590e+00],\n",
       "       [1.91351799e-01, 5.49842780e-01, 1.91581492e+00, 1.61028582e+00,\n",
       "        8.01891920e-01, 1.62503960e+00, 3.07888085e-01, 3.72583748e-01,\n",
       "        6.25395228e-01, 2.16211413e+00, 3.49337902e-01, 3.35934455e-01,\n",
       "        1.87401696e-01, 9.07855874e-01, 1.72800005e-01, 1.20631398e-01,\n",
       "        6.07196888e-01],\n",
       "       [6.77839422e-01, 6.61773000e-01, 8.55429164e-01, 1.41567500e+00,\n",
       "        8.28122030e-01, 4.57346476e-01, 4.99652290e-01, 7.68342561e-01,\n",
       "        7.72431723e-01, 6.68695091e-02, 6.03230859e-01, 2.77931383e-01,\n",
       "        2.99394742e-01, 9.07855874e-01, 1.30834289e+00, 2.67112380e-01,\n",
       "        1.70015129e-01],\n",
       "       [1.26162457e+00, 8.44092327e-01, 8.04430575e-01, 1.34328927e+00,\n",
       "        4.12187436e-02, 1.72234737e+00, 7.14854342e-01, 1.44576756e+00,\n",
       "        3.41124670e-01, 6.01825582e-01, 2.19711442e+00, 2.36604195e+00,\n",
       "        2.42726261e+00, 1.96293162e-01, 1.80205719e+00, 9.13352010e-01,\n",
       "        4.85757510e-02]])"
      ]
     },
     "execution_count": 182,
     "metadata": {},
     "output_type": "execute_result"
    }
   ],
   "source": [
    "from scipy.stats import zscore\n",
    "z=np.abs(zscore(df))\n",
    "z"
   ]
  },
  {
   "cell_type": "code",
   "execution_count": 183,
   "id": "16507029",
   "metadata": {},
   "outputs": [],
   "source": [
    "df1=df[(z<3).all(axis=1)]"
   ]
  },
  {
   "cell_type": "code",
   "execution_count": 184,
   "id": "3921a0d5",
   "metadata": {},
   "outputs": [
    {
     "data": {
      "text/plain": [
       "(29, 17)"
      ]
     },
     "execution_count": 184,
     "metadata": {},
     "output_type": "execute_result"
    }
   ],
   "source": [
    "df1.shape"
   ]
  },
  {
   "cell_type": "code",
   "execution_count": 185,
   "id": "93cdd89a",
   "metadata": {},
   "outputs": [
    {
     "data": {
      "text/plain": [
       "(30, 17)"
      ]
     },
     "execution_count": 185,
     "metadata": {},
     "output_type": "execute_result"
    }
   ],
   "source": [
    "df.shape"
   ]
  },
  {
   "cell_type": "markdown",
   "id": "e4dcad5e",
   "metadata": {},
   "source": [
    "we can see only 1 row is deleted after removing outliers"
   ]
  },
  {
   "cell_type": "code",
   "execution_count": 186,
   "id": "79e05b22",
   "metadata": {},
   "outputs": [
    {
     "data": {
      "text/plain": [
       "W         AxesSubplot(0.125,0.772143;0.227941x0.107857)\n",
       "R      AxesSubplot(0.398529,0.772143;0.227941x0.107857)\n",
       "AB     AxesSubplot(0.672059,0.772143;0.227941x0.107857)\n",
       "H         AxesSubplot(0.125,0.642714;0.227941x0.107857)\n",
       "2B     AxesSubplot(0.398529,0.642714;0.227941x0.107857)\n",
       "3B     AxesSubplot(0.672059,0.642714;0.227941x0.107857)\n",
       "HR        AxesSubplot(0.125,0.513286;0.227941x0.107857)\n",
       "BB     AxesSubplot(0.398529,0.513286;0.227941x0.107857)\n",
       "SO     AxesSubplot(0.672059,0.513286;0.227941x0.107857)\n",
       "SB        AxesSubplot(0.125,0.383857;0.227941x0.107857)\n",
       "RA     AxesSubplot(0.398529,0.383857;0.227941x0.107857)\n",
       "ER     AxesSubplot(0.672059,0.383857;0.227941x0.107857)\n",
       "ERA       AxesSubplot(0.125,0.254429;0.227941x0.107857)\n",
       "CG     AxesSubplot(0.398529,0.254429;0.227941x0.107857)\n",
       "SHO    AxesSubplot(0.672059,0.254429;0.227941x0.107857)\n",
       "SV           AxesSubplot(0.125,0.125;0.227941x0.107857)\n",
       "E         AxesSubplot(0.398529,0.125;0.227941x0.107857)\n",
       "dtype: object"
      ]
     },
     "execution_count": 186,
     "metadata": {},
     "output_type": "execute_result"
    },
    {
     "data": {
      "image/png": "[encoded data removed]",
      "text/plain": [
       "<Figure size 504x864 with 18 Axes>"
      ]
     },
     "metadata": {
      "needs_background": "light"
     },
     "output_type": "display_data"
    }
   ],
   "source": [
    "df1.plot(kind='box',subplots=True, layout=(6,3),figsize=(7,12))"
   ]
  },
  {
   "cell_type": "markdown",
   "id": "5233107c",
   "metadata": {},
   "source": [
    "outliers is still present in some columns"
   ]
  },
  {
   "cell_type": "code",
   "execution_count": 187,
   "id": "6f52de39",
   "metadata": {},
   "outputs": [
    {
     "data": {
      "text/plain": [
       "0.5833075389348484"
      ]
     },
     "execution_count": 187,
     "metadata": {},
     "output_type": "execute_result"
    }
   ],
   "source": [
    "df1['E']=np.log(df1['E'])\n",
    "df1['E'].skew()"
   ]
  },
  {
   "cell_type": "markdown",
   "id": "60e13752",
   "metadata": {},
   "source": [
    "by log transformation, skewness is removed"
   ]
  },
  {
   "cell_type": "code",
   "execution_count": 188,
   "id": "02e6fd46",
   "metadata": {},
   "outputs": [
    {
     "data": {
      "text/plain": [
       "0.09675174266622452"
      ]
     },
     "execution_count": 188,
     "metadata": {},
     "output_type": "execute_result"
    }
   ],
   "source": [
    "df1['SV']=np.log(df1['SV'])\n",
    "df1['SV'].skew()"
   ]
  },
  {
   "cell_type": "code",
   "execution_count": 189,
   "id": "6aaee083",
   "metadata": {},
   "outputs": [
    {
     "data": {
      "text/plain": [
       "-0.7261238398670306"
      ]
     },
     "execution_count": 189,
     "metadata": {},
     "output_type": "execute_result"
    }
   ],
   "source": [
    "df1['SHO']=np.log(df1['SHO'])\n",
    "df1['SHO'].skew()"
   ]
  },
  {
   "cell_type": "code",
   "execution_count": 190,
   "id": "fd911b83",
   "metadata": {},
   "outputs": [
    {
     "data": {
      "text/plain": [
       "0.7384225982580486"
      ]
     },
     "execution_count": 190,
     "metadata": {},
     "output_type": "execute_result"
    }
   ],
   "source": [
    "df1['H']=np.log(df1['H'])\n",
    "df1['H'].skew()"
   ]
  },
  {
   "cell_type": "code",
   "execution_count": 191,
   "id": "40e0a922",
   "metadata": {},
   "outputs": [],
   "source": [
    "#checking corelation"
   ]
  },
  {
   "cell_type": "code",
   "execution_count": 192,
   "id": "55e87ef0",
   "metadata": {},
   "outputs": [
    {
     "data": {
      "text/html": [
       "<div>\n",
       "<style scoped>\n",
       "    .dataframe tbody tr th:only-of-type {\n",
       "        vertical-align: middle;\n",
       "    }\n",
       "\n",
       "    .dataframe tbody tr th {\n",
       "        vertical-align: top;\n",
       "    }\n",
       "\n",
       "    .dataframe thead th {\n",
       "        text-align: right;\n",
       "    }\n",
       "</style>\n",
       "<table border=\"1\" class=\"dataframe\">\n",
       "  <thead>\n",
       "    <tr style=\"text-align: right;\">\n",
       "      <th></th>\n",
       "      <th>W</th>\n",
       "      <th>R</th>\n",
       "      <th>AB</th>\n",
       "      <th>H</th>\n",
       "      <th>2B</th>\n",
       "      <th>3B</th>\n",
       "      <th>HR</th>\n",
       "      <th>BB</th>\n",
       "      <th>SO</th>\n",
       "      <th>SB</th>\n",
       "      <th>RA</th>\n",
       "      <th>ER</th>\n",
       "      <th>ERA</th>\n",
       "      <th>CG</th>\n",
       "      <th>SHO</th>\n",
       "      <th>SV</th>\n",
       "      <th>E</th>\n",
       "    </tr>\n",
       "  </thead>\n",
       "  <tbody>\n",
       "    <tr>\n",
       "      <th>W</th>\n",
       "      <td>1.000000</td>\n",
       "      <td>0.390451</td>\n",
       "      <td>-0.085780</td>\n",
       "      <td>-0.020787</td>\n",
       "      <td>0.384886</td>\n",
       "      <td>-0.206737</td>\n",
       "      <td>0.245697</td>\n",
       "      <td>0.447513</td>\n",
       "      <td>0.156469</td>\n",
       "      <td>-0.169503</td>\n",
       "      <td>-0.823176</td>\n",
       "      <td>-0.815308</td>\n",
       "      <td>-0.826952</td>\n",
       "      <td>0.029594</td>\n",
       "      <td>0.445758</td>\n",
       "      <td>0.756870</td>\n",
       "      <td>-0.075036</td>\n",
       "    </tr>\n",
       "    <tr>\n",
       "      <th>R</th>\n",
       "      <td>0.390451</td>\n",
       "      <td>1.000000</td>\n",
       "      <td>0.438022</td>\n",
       "      <td>0.432235</td>\n",
       "      <td>0.469293</td>\n",
       "      <td>0.134204</td>\n",
       "      <td>0.586894</td>\n",
       "      <td>0.258450</td>\n",
       "      <td>0.081158</td>\n",
       "      <td>0.075323</td>\n",
       "      <td>-0.013858</td>\n",
       "      <td>0.007727</td>\n",
       "      <td>-0.009122</td>\n",
       "      <td>0.101438</td>\n",
       "      <td>-0.159190</td>\n",
       "      <td>0.080480</td>\n",
       "      <td>0.041183</td>\n",
       "    </tr>\n",
       "    <tr>\n",
       "      <th>AB</th>\n",
       "      <td>-0.085780</td>\n",
       "      <td>0.438022</td>\n",
       "      <td>1.000000</td>\n",
       "      <td>0.770155</td>\n",
       "      <td>0.490752</td>\n",
       "      <td>0.445604</td>\n",
       "      <td>-0.064653</td>\n",
       "      <td>-0.137850</td>\n",
       "      <td>-0.111243</td>\n",
       "      <td>0.373674</td>\n",
       "      <td>0.315499</td>\n",
       "      <td>0.309146</td>\n",
       "      <td>0.254872</td>\n",
       "      <td>-0.078511</td>\n",
       "      <td>-0.190047</td>\n",
       "      <td>-0.142765</td>\n",
       "      <td>0.321901</td>\n",
       "    </tr>\n",
       "    <tr>\n",
       "      <th>H</th>\n",
       "      <td>-0.020787</td>\n",
       "      <td>0.432235</td>\n",
       "      <td>0.770155</td>\n",
       "      <td>1.000000</td>\n",
       "      <td>0.527354</td>\n",
       "      <td>0.579733</td>\n",
       "      <td>-0.219201</td>\n",
       "      <td>-0.221773</td>\n",
       "      <td>-0.373302</td>\n",
       "      <td>0.420201</td>\n",
       "      <td>0.243639</td>\n",
       "      <td>0.279955</td>\n",
       "      <td>0.255885</td>\n",
       "      <td>0.092789</td>\n",
       "      <td>-0.122532</td>\n",
       "      <td>-0.100068</td>\n",
       "      <td>-0.012819</td>\n",
       "    </tr>\n",
       "    <tr>\n",
       "      <th>2B</th>\n",
       "      <td>0.384886</td>\n",
       "      <td>0.469293</td>\n",
       "      <td>0.490752</td>\n",
       "      <td>0.527354</td>\n",
       "      <td>1.000000</td>\n",
       "      <td>0.342419</td>\n",
       "      <td>-0.098695</td>\n",
       "      <td>0.211243</td>\n",
       "      <td>-0.096772</td>\n",
       "      <td>0.194308</td>\n",
       "      <td>-0.215196</td>\n",
       "      <td>-0.224993</td>\n",
       "      <td>-0.248212</td>\n",
       "      <td>0.244856</td>\n",
       "      <td>0.088240</td>\n",
       "      <td>0.245977</td>\n",
       "      <td>0.147011</td>\n",
       "    </tr>\n",
       "    <tr>\n",
       "      <th>3B</th>\n",
       "      <td>-0.206737</td>\n",
       "      <td>0.134204</td>\n",
       "      <td>0.445604</td>\n",
       "      <td>0.579733</td>\n",
       "      <td>0.342419</td>\n",
       "      <td>1.000000</td>\n",
       "      <td>-0.369299</td>\n",
       "      <td>-0.404852</td>\n",
       "      <td>-0.196586</td>\n",
       "      <td>0.483818</td>\n",
       "      <td>0.312750</td>\n",
       "      <td>0.333731</td>\n",
       "      <td>0.325883</td>\n",
       "      <td>-0.003733</td>\n",
       "      <td>-0.076306</td>\n",
       "      <td>-0.260995</td>\n",
       "      <td>0.098432</td>\n",
       "    </tr>\n",
       "    <tr>\n",
       "      <th>HR</th>\n",
       "      <td>0.245697</td>\n",
       "      <td>0.586894</td>\n",
       "      <td>-0.064653</td>\n",
       "      <td>-0.219201</td>\n",
       "      <td>-0.098695</td>\n",
       "      <td>-0.369299</td>\n",
       "      <td>1.000000</td>\n",
       "      <td>0.336814</td>\n",
       "      <td>0.479914</td>\n",
       "      <td>-0.166072</td>\n",
       "      <td>-0.092586</td>\n",
       "      <td>-0.062094</td>\n",
       "      <td>-0.070756</td>\n",
       "      <td>0.065978</td>\n",
       "      <td>-0.072227</td>\n",
       "      <td>0.100948</td>\n",
       "      <td>-0.182292</td>\n",
       "    </tr>\n",
       "    <tr>\n",
       "      <th>BB</th>\n",
       "      <td>0.447513</td>\n",
       "      <td>0.258450</td>\n",
       "      <td>-0.137850</td>\n",
       "      <td>-0.221773</td>\n",
       "      <td>0.211243</td>\n",
       "      <td>-0.404852</td>\n",
       "      <td>0.336814</td>\n",
       "      <td>1.000000</td>\n",
       "      <td>0.315566</td>\n",
       "      <td>-0.117622</td>\n",
       "      <td>-0.425381</td>\n",
       "      <td>-0.455832</td>\n",
       "      <td>-0.465794</td>\n",
       "      <td>0.417437</td>\n",
       "      <td>0.384340</td>\n",
       "      <td>0.205484</td>\n",
       "      <td>-0.052399</td>\n",
       "    </tr>\n",
       "    <tr>\n",
       "      <th>SO</th>\n",
       "      <td>0.156469</td>\n",
       "      <td>0.081158</td>\n",
       "      <td>-0.111243</td>\n",
       "      <td>-0.373302</td>\n",
       "      <td>-0.096772</td>\n",
       "      <td>-0.196586</td>\n",
       "      <td>0.479914</td>\n",
       "      <td>0.315566</td>\n",
       "      <td>1.000000</td>\n",
       "      <td>0.038188</td>\n",
       "      <td>-0.140570</td>\n",
       "      <td>-0.177655</td>\n",
       "      <td>-0.195362</td>\n",
       "      <td>-0.053075</td>\n",
       "      <td>0.163936</td>\n",
       "      <td>0.120450</td>\n",
       "      <td>0.152677</td>\n",
       "    </tr>\n",
       "    <tr>\n",
       "      <th>SB</th>\n",
       "      <td>-0.169503</td>\n",
       "      <td>0.075323</td>\n",
       "      <td>0.373674</td>\n",
       "      <td>0.420201</td>\n",
       "      <td>0.194308</td>\n",
       "      <td>0.483818</td>\n",
       "      <td>-0.166072</td>\n",
       "      <td>-0.117622</td>\n",
       "      <td>0.038188</td>\n",
       "      <td>1.000000</td>\n",
       "      <td>0.134315</td>\n",
       "      <td>0.146243</td>\n",
       "      <td>0.128848</td>\n",
       "      <td>-0.030708</td>\n",
       "      <td>-0.088083</td>\n",
       "      <td>-0.193938</td>\n",
       "      <td>0.077965</td>\n",
       "    </tr>\n",
       "    <tr>\n",
       "      <th>RA</th>\n",
       "      <td>-0.823176</td>\n",
       "      <td>-0.013858</td>\n",
       "      <td>0.315499</td>\n",
       "      <td>0.243639</td>\n",
       "      <td>-0.215196</td>\n",
       "      <td>0.312750</td>\n",
       "      <td>-0.092586</td>\n",
       "      <td>-0.425381</td>\n",
       "      <td>-0.140570</td>\n",
       "      <td>0.134315</td>\n",
       "      <td>1.000000</td>\n",
       "      <td>0.991286</td>\n",
       "      <td>0.986781</td>\n",
       "      <td>-0.005288</td>\n",
       "      <td>-0.627476</td>\n",
       "      <td>-0.629446</td>\n",
       "      <td>0.208715</td>\n",
       "    </tr>\n",
       "    <tr>\n",
       "      <th>ER</th>\n",
       "      <td>-0.815308</td>\n",
       "      <td>0.007727</td>\n",
       "      <td>0.309146</td>\n",
       "      <td>0.279955</td>\n",
       "      <td>-0.224993</td>\n",
       "      <td>0.333731</td>\n",
       "      <td>-0.062094</td>\n",
       "      <td>-0.455832</td>\n",
       "      <td>-0.177655</td>\n",
       "      <td>0.146243</td>\n",
       "      <td>0.991286</td>\n",
       "      <td>1.000000</td>\n",
       "      <td>0.997261</td>\n",
       "      <td>-0.002865</td>\n",
       "      <td>-0.628210</td>\n",
       "      <td>-0.608095</td>\n",
       "      <td>0.143759</td>\n",
       "    </tr>\n",
       "    <tr>\n",
       "      <th>ERA</th>\n",
       "      <td>-0.826952</td>\n",
       "      <td>-0.009122</td>\n",
       "      <td>0.254872</td>\n",
       "      <td>0.255885</td>\n",
       "      <td>-0.248212</td>\n",
       "      <td>0.325883</td>\n",
       "      <td>-0.070756</td>\n",
       "      <td>-0.465794</td>\n",
       "      <td>-0.195362</td>\n",
       "      <td>0.128848</td>\n",
       "      <td>0.986781</td>\n",
       "      <td>0.997261</td>\n",
       "      <td>1.000000</td>\n",
       "      <td>0.006038</td>\n",
       "      <td>-0.628987</td>\n",
       "      <td>-0.623480</td>\n",
       "      <td>0.119094</td>\n",
       "    </tr>\n",
       "    <tr>\n",
       "      <th>CG</th>\n",
       "      <td>0.029594</td>\n",
       "      <td>0.101438</td>\n",
       "      <td>-0.078511</td>\n",
       "      <td>0.092789</td>\n",
       "      <td>0.244856</td>\n",
       "      <td>-0.003733</td>\n",
       "      <td>0.065978</td>\n",
       "      <td>0.417437</td>\n",
       "      <td>-0.053075</td>\n",
       "      <td>-0.030708</td>\n",
       "      <td>-0.005288</td>\n",
       "      <td>-0.002865</td>\n",
       "      <td>0.006038</td>\n",
       "      <td>1.000000</td>\n",
       "      <td>0.213082</td>\n",
       "      <td>-0.318901</td>\n",
       "      <td>-0.132917</td>\n",
       "    </tr>\n",
       "    <tr>\n",
       "      <th>SHO</th>\n",
       "      <td>0.445758</td>\n",
       "      <td>-0.159190</td>\n",
       "      <td>-0.190047</td>\n",
       "      <td>-0.122532</td>\n",
       "      <td>0.088240</td>\n",
       "      <td>-0.076306</td>\n",
       "      <td>-0.072227</td>\n",
       "      <td>0.384340</td>\n",
       "      <td>0.163936</td>\n",
       "      <td>-0.088083</td>\n",
       "      <td>-0.627476</td>\n",
       "      <td>-0.628210</td>\n",
       "      <td>-0.628987</td>\n",
       "      <td>0.213082</td>\n",
       "      <td>1.000000</td>\n",
       "      <td>0.189015</td>\n",
       "      <td>-0.151441</td>\n",
       "    </tr>\n",
       "    <tr>\n",
       "      <th>SV</th>\n",
       "      <td>0.756870</td>\n",
       "      <td>0.080480</td>\n",
       "      <td>-0.142765</td>\n",
       "      <td>-0.100068</td>\n",
       "      <td>0.245977</td>\n",
       "      <td>-0.260995</td>\n",
       "      <td>0.100948</td>\n",
       "      <td>0.205484</td>\n",
       "      <td>0.120450</td>\n",
       "      <td>-0.193938</td>\n",
       "      <td>-0.629446</td>\n",
       "      <td>-0.608095</td>\n",
       "      <td>-0.623480</td>\n",
       "      <td>-0.318901</td>\n",
       "      <td>0.189015</td>\n",
       "      <td>1.000000</td>\n",
       "      <td>-0.065612</td>\n",
       "    </tr>\n",
       "    <tr>\n",
       "      <th>E</th>\n",
       "      <td>-0.075036</td>\n",
       "      <td>0.041183</td>\n",
       "      <td>0.321901</td>\n",
       "      <td>-0.012819</td>\n",
       "      <td>0.147011</td>\n",
       "      <td>0.098432</td>\n",
       "      <td>-0.182292</td>\n",
       "      <td>-0.052399</td>\n",
       "      <td>0.152677</td>\n",
       "      <td>0.077965</td>\n",
       "      <td>0.208715</td>\n",
       "      <td>0.143759</td>\n",
       "      <td>0.119094</td>\n",
       "      <td>-0.132917</td>\n",
       "      <td>-0.151441</td>\n",
       "      <td>-0.065612</td>\n",
       "      <td>1.000000</td>\n",
       "    </tr>\n",
       "  </tbody>\n",
       "</table>\n",
       "</div>"
      ],
      "text/plain": [
       "            W         R        AB         H        2B        3B        HR  \\\n",
       "W    1.000000  0.390451 -0.085780 -0.020787  0.384886 -0.206737  0.245697   \n",
       "R    0.390451  1.000000  0.438022  0.432235  0.469293  0.134204  0.586894   \n",
       "AB  -0.085780  0.438022  1.000000  0.770155  0.490752  0.445604 -0.064653   \n",
       "H   -0.020787  0.432235  0.770155  1.000000  0.527354  0.579733 -0.219201   \n",
       "2B   0.384886  0.469293  0.490752  0.527354  1.000000  0.342419 -0.098695   \n",
       "3B  -0.206737  0.134204  0.445604  0.579733  0.342419  1.000000 -0.369299   \n",
       "HR   0.245697  0.586894 -0.064653 -0.219201 -0.098695 -0.369299  1.000000   \n",
       "BB   0.447513  0.258450 -0.137850 -0.221773  0.211243 -0.404852  0.336814   \n",
       "SO   0.156469  0.081158 -0.111243 -0.373302 -0.096772 -0.196586  0.479914   \n",
       "SB  -0.169503  0.075323  0.373674  0.420201  0.194308  0.483818 -0.166072   \n",
       "RA  -0.823176 -0.013858  0.315499  0.243639 -0.215196  0.312750 -0.092586   \n",
       "ER  -0.815308  0.007727  0.309146  0.279955 -0.224993  0.333731 -0.062094   \n",
       "ERA -0.826952 -0.009122  0.254872  0.255885 -0.248212  0.325883 -0.070756   \n",
       "CG   0.029594  0.101438 -0.078511  0.092789  0.244856 -0.003733  0.065978   \n",
       "SHO  0.445758 -0.159190 -0.190047 -0.122532  0.088240 -0.076306 -0.072227   \n",
       "SV   0.756870  0.080480 -0.142765 -0.100068  0.245977 -0.260995  0.100948   \n",
       "E   -0.075036  0.041183  0.321901 -0.012819  0.147011  0.098432 -0.182292   \n",
       "\n",
       "           BB        SO        SB        RA        ER       ERA        CG  \\\n",
       "W    0.447513  0.156469 -0.169503 -0.823176 -0.815308 -0.826952  0.029594   \n",
       "R    0.258450  0.081158  0.075323 -0.013858  0.007727 -0.009122  0.101438   \n",
       "AB  -0.137850 -0.111243  0.373674  0.315499  0.309146  0.254872 -0.078511   \n",
       "H   -0.221773 -0.373302  0.420201  0.243639  0.279955  0.255885  0.092789   \n",
       "2B   0.211243 -0.096772  0.194308 -0.215196 -0.224993 -0.248212  0.244856   \n",
       "3B  -0.404852 -0.196586  0.483818  0.312750  0.333731  0.325883 -0.003733   \n",
       "HR   0.336814  0.479914 -0.166072 -0.092586 -0.062094 -0.070756  0.065978   \n",
       "BB   1.000000  0.315566 -0.117622 -0.425381 -0.455832 -0.465794  0.417437   \n",
       "SO   0.315566  1.000000  0.038188 -0.140570 -0.177655 -0.195362 -0.053075   \n",
       "SB  -0.117622  0.038188  1.000000  0.134315  0.146243  0.128848 -0.030708   \n",
       "RA  -0.425381 -0.140570  0.134315  1.000000  0.991286  0.986781 -0.005288   \n",
       "ER  -0.455832 -0.177655  0.146243  0.991286  1.000000  0.997261 -0.002865   \n",
       "ERA -0.465794 -0.195362  0.128848  0.986781  0.997261  1.000000  0.006038   \n",
       "CG   0.417437 -0.053075 -0.030708 -0.005288 -0.002865  0.006038  1.000000   \n",
       "SHO  0.384340  0.163936 -0.088083 -0.627476 -0.628210 -0.628987  0.213082   \n",
       "SV   0.205484  0.120450 -0.193938 -0.629446 -0.608095 -0.623480 -0.318901   \n",
       "E   -0.052399  0.152677  0.077965  0.208715  0.143759  0.119094 -0.132917   \n",
       "\n",
       "          SHO        SV         E  \n",
       "W    0.445758  0.756870 -0.075036  \n",
       "R   -0.159190  0.080480  0.041183  \n",
       "AB  -0.190047 -0.142765  0.321901  \n",
       "H   -0.122532 -0.100068 -0.012819  \n",
       "2B   0.088240  0.245977  0.147011  \n",
       "3B  -0.076306 -0.260995  0.098432  \n",
       "HR  -0.072227  0.100948 -0.182292  \n",
       "BB   0.384340  0.205484 -0.052399  \n",
       "SO   0.163936  0.120450  0.152677  \n",
       "SB  -0.088083 -0.193938  0.077965  \n",
       "RA  -0.627476 -0.629446  0.208715  \n",
       "ER  -0.628210 -0.608095  0.143759  \n",
       "ERA -0.628987 -0.623480  0.119094  \n",
       "CG   0.213082 -0.318901 -0.132917  \n",
       "SHO  1.000000  0.189015 -0.151441  \n",
       "SV   0.189015  1.000000 -0.065612  \n",
       "E   -0.151441 -0.065612  1.000000  "
      ]
     },
     "execution_count": 192,
     "metadata": {},
     "output_type": "execute_result"
    }
   ],
   "source": [
    "df1.corr()"
   ]
  },
  {
   "cell_type": "code",
   "execution_count": 193,
   "id": "6d6fb49a",
   "metadata": {},
   "outputs": [],
   "source": [
    "#visualizing the corelation"
   ]
  },
  {
   "cell_type": "code",
   "execution_count": 194,
   "id": "e1cc0a5a",
   "metadata": {},
   "outputs": [
    {
     "data": {
      "text/plain": [
       "<AxesSubplot:>"
      ]
     },
     "execution_count": 194,
     "metadata": {},
     "output_type": "execute_result"
    },
    {
     "data": {
      "image/png": "[encoded data removed]",
      "text/plain": [
       "<Figure size 1080x720 with 2 Axes>"
      ]
     },
     "metadata": {
      "needs_background": "light"
     },
     "output_type": "display_data"
    }
   ],
   "source": [
    "plt.figure(figsize=(15,10))\n",
    "sns.heatmap(df1.corr(),annot=True)"
   ]
  },
  {
   "cell_type": "code",
   "execution_count": 195,
   "id": "2a99468b",
   "metadata": {},
   "outputs": [],
   "source": [
    "#splitting the data "
   ]
  },
  {
   "cell_type": "code",
   "execution_count": 196,
   "id": "1e812904",
   "metadata": {},
   "outputs": [],
   "source": [
    "x=df1.iloc[:,1:]\n",
    "y=df1['W']"
   ]
  },
  {
   "cell_type": "code",
   "execution_count": 197,
   "id": "7ff3de2f",
   "metadata": {},
   "outputs": [
    {
     "data": {
      "text/plain": [
       "(29, 16)"
      ]
     },
     "execution_count": 197,
     "metadata": {},
     "output_type": "execute_result"
    }
   ],
   "source": [
    "x.shape"
   ]
  },
  {
   "cell_type": "code",
   "execution_count": 198,
   "id": "bdc479a3",
   "metadata": {},
   "outputs": [
    {
     "data": {
      "text/plain": [
       "(29,)"
      ]
     },
     "execution_count": 198,
     "metadata": {},
     "output_type": "execute_result"
    }
   ],
   "source": [
    "y.shape"
   ]
  },
  {
   "cell_type": "code",
   "execution_count": 199,
   "id": "52e798bb",
   "metadata": {},
   "outputs": [],
   "source": [
    "#checking for multicollinearity"
   ]
  },
  {
   "cell_type": "code",
   "execution_count": 200,
   "id": "d1ec8eb2",
   "metadata": {},
   "outputs": [],
   "source": [
    "import statsmodels.api as sm\n",
    "from scipy import stats\n",
    "from statsmodels.stats.outliers_influence import variance_inflation_factor"
   ]
  },
  {
   "cell_type": "code",
   "execution_count": 201,
   "id": "5e3eb8f2",
   "metadata": {},
   "outputs": [],
   "source": [
    "def calc_vif(d):\n",
    "    vif=pd.DataFrame()\n",
    "    vif['Variable']=d.columns\n",
    "    vif['vif factor']=[variance_inflation_factor(d.values,i) for i in range(d.shape[1])]\n",
    "    return (vif)"
   ]
  },
  {
   "cell_type": "code",
   "execution_count": 202,
   "id": "cf7909c3",
   "metadata": {},
   "outputs": [
    {
     "data": {
      "text/html": [
       "<div>\n",
       "<style scoped>\n",
       "    .dataframe tbody tr th:only-of-type {\n",
       "        vertical-align: middle;\n",
       "    }\n",
       "\n",
       "    .dataframe tbody tr th {\n",
       "        vertical-align: top;\n",
       "    }\n",
       "\n",
       "    .dataframe thead th {\n",
       "        text-align: right;\n",
       "    }\n",
       "</style>\n",
       "<table border=\"1\" class=\"dataframe\">\n",
       "  <thead>\n",
       "    <tr style=\"text-align: right;\">\n",
       "      <th></th>\n",
       "      <th>Variable</th>\n",
       "      <th>vif factor</th>\n",
       "    </tr>\n",
       "  </thead>\n",
       "  <tbody>\n",
       "    <tr>\n",
       "      <th>0</th>\n",
       "      <td>R</td>\n",
       "      <td>1076.855160</td>\n",
       "    </tr>\n",
       "    <tr>\n",
       "      <th>1</th>\n",
       "      <td>AB</td>\n",
       "      <td>129048.798685</td>\n",
       "    </tr>\n",
       "    <tr>\n",
       "      <th>2</th>\n",
       "      <td>H</td>\n",
       "      <td>139141.755542</td>\n",
       "    </tr>\n",
       "    <tr>\n",
       "      <th>3</th>\n",
       "      <td>2B</td>\n",
       "      <td>936.791276</td>\n",
       "    </tr>\n",
       "    <tr>\n",
       "      <th>4</th>\n",
       "      <td>3B</td>\n",
       "      <td>33.010708</td>\n",
       "    </tr>\n",
       "    <tr>\n",
       "      <th>5</th>\n",
       "      <td>HR</td>\n",
       "      <td>188.503441</td>\n",
       "    </tr>\n",
       "    <tr>\n",
       "      <th>6</th>\n",
       "      <td>BB</td>\n",
       "      <td>208.903556</td>\n",
       "    </tr>\n",
       "    <tr>\n",
       "      <th>7</th>\n",
       "      <td>SO</td>\n",
       "      <td>399.642360</td>\n",
       "    </tr>\n",
       "    <tr>\n",
       "      <th>8</th>\n",
       "      <td>SB</td>\n",
       "      <td>26.807188</td>\n",
       "    </tr>\n",
       "    <tr>\n",
       "      <th>9</th>\n",
       "      <td>RA</td>\n",
       "      <td>15897.396499</td>\n",
       "    </tr>\n",
       "    <tr>\n",
       "      <th>10</th>\n",
       "      <td>ER</td>\n",
       "      <td>170174.554121</td>\n",
       "    </tr>\n",
       "    <tr>\n",
       "      <th>11</th>\n",
       "      <td>ERA</td>\n",
       "      <td>129465.125551</td>\n",
       "    </tr>\n",
       "    <tr>\n",
       "      <th>12</th>\n",
       "      <td>CG</td>\n",
       "      <td>7.559546</td>\n",
       "    </tr>\n",
       "    <tr>\n",
       "      <th>13</th>\n",
       "      <td>SHO</td>\n",
       "      <td>102.454607</td>\n",
       "    </tr>\n",
       "    <tr>\n",
       "      <th>14</th>\n",
       "      <td>SV</td>\n",
       "      <td>3170.111736</td>\n",
       "    </tr>\n",
       "    <tr>\n",
       "      <th>15</th>\n",
       "      <td>E</td>\n",
       "      <td>1752.216187</td>\n",
       "    </tr>\n",
       "  </tbody>\n",
       "</table>\n",
       "</div>"
      ],
      "text/plain": [
       "   Variable     vif factor\n",
       "0         R    1076.855160\n",
       "1        AB  129048.798685\n",
       "2         H  139141.755542\n",
       "3        2B     936.791276\n",
       "4        3B      33.010708\n",
       "5        HR     188.503441\n",
       "6        BB     208.903556\n",
       "7        SO     399.642360\n",
       "8        SB      26.807188\n",
       "9        RA   15897.396499\n",
       "10       ER  170174.554121\n",
       "11      ERA  129465.125551\n",
       "12       CG       7.559546\n",
       "13      SHO     102.454607\n",
       "14       SV    3170.111736\n",
       "15        E    1752.216187"
      ]
     },
     "execution_count": 202,
     "metadata": {},
     "output_type": "execute_result"
    }
   ],
   "source": [
    "calc_vif(x)"
   ]
  },
  {
   "cell_type": "markdown",
   "id": "a357dd85",
   "metadata": {},
   "source": [
    "many columns have high vif, so we can remove 1 column that has high vif "
   ]
  },
  {
   "cell_type": "markdown",
   "id": "cfbb8036",
   "metadata": {},
   "source": [
    "so we can remove ER, as ER and ERA are similar"
   ]
  },
  {
   "cell_type": "code",
   "execution_count": 203,
   "id": "a8864220",
   "metadata": {},
   "outputs": [],
   "source": [
    "x.drop('ER',axis=1,inplace=True)\n"
   ]
  },
  {
   "cell_type": "code",
   "execution_count": 204,
   "id": "7821f884",
   "metadata": {},
   "outputs": [],
   "source": [
    "#scaling the data"
   ]
  },
  {
   "cell_type": "code",
   "execution_count": 205,
   "id": "70f48875",
   "metadata": {},
   "outputs": [],
   "source": [
    "from sklearn.preprocessing import StandardScaler"
   ]
  },
  {
   "cell_type": "code",
   "execution_count": 206,
   "id": "0ff8a284",
   "metadata": {},
   "outputs": [
    {
     "data": {
      "text/plain": [
       "array([[ 0.95939835,  0.83008422,  1.72371546,  1.55653766,  1.01084549,\n",
       "        -0.76586314, -1.53635899, -2.72762331,  0.9059529 , -0.66451353,\n",
       "        -0.51138828, -0.50148589, -0.69920602,  1.55215675, -0.43529008],\n",
       "       [ 0.33114717, -0.70283074, -0.94985367,  0.20117132,  1.20891656,\n",
       "        -0.18138864, -0.49502051,  0.12189552, -0.58531515,  0.15463823,\n",
       "         0.23895226, -0.50148589,  0.32340651,  0.29800664, -0.5978505 ],\n",
       "       [-0.27466646, -1.10025314, -0.08868729,  1.73332457, -0.2766165 ,\n",
       "        -0.69710144,  1.25294051, -0.9258657 ,  0.11645805, -0.67839746,\n",
       "        -0.64380131,  2.85461197, -0.13642174, -0.67162101, -1.19818012],\n",
       "       [-1.32923093,  0.23395062, -0.34773808, -0.8006212 , -0.47468758,\n",
       "        -0.8690057 , -1.14585706, -0.20124579, -0.6730368 ,  0.16852216,\n",
       "         0.04033271,  1.36301292, -0.40214863, -0.82455945,  0.53898766],\n",
       "       [ 0.17408438,  1.25589393,  2.03068505,  0.90831897,  1.70409425,\n",
       "        -0.35329291, -0.19749523,  0.07293472, -0.01512442,  1.58468284,\n",
       "         1.4968761 ,  1.36301292,  0.32340651, -1.1432443 , -0.5978505 ],\n",
       "       [ 1.85690002,  0.71653496, -0.05189242, -0.09347354, -1.26697188,\n",
       "         1.74393914,  1.64344245, -0.24041443, -0.89234092,  0.12687038,\n",
       "         0.1506769 , -0.12858612, -2.44737369,  0.66812548, -0.044524  ],\n",
       "       [ 0.71258538, -0.44734492, -0.55312702, -1.6256268 , -1.16793634,\n",
       "         1.9158434 , -0.88552244,  0.7779703 , -1.7256966 ,  0.05745074,\n",
       "         0.19481458, -1.24728541, -0.13642174,  0.03728667, -1.37949946],\n",
       "       [-0.83560501, -0.44734492, -0.31057046,  0.26010029,  0.02049011,\n",
       "         0.19680075, -0.5508065 ,  0.57233492,  0.16031888, -0.6506296 ,\n",
       "        -0.48931944, -0.87438565,  0.32340651,  1.94782062,  0.10592991],\n",
       "       [ 1.49789935,  1.75267193,  1.68938014,  1.20296383,  0.11952565,\n",
       "        -0.00948437,  0.23019736, -1.01399515, -0.54145432,  0.89048643,\n",
       "         0.7686044 , -0.12858612, -0.13642174, -0.37746159,  0.25324912],\n",
       "       [ 1.56521198, -0.07830983,  0.34940976,  0.31902926,  0.02049011,\n",
       "         0.36870501,  0.69508061, -0.18166147,  0.77437043,  0.61280787,\n",
       "         0.61412253,  0.6172134 , -0.40214863,  0.29800664,  1.69866364],\n",
       "       [ 1.07158606, -0.81638   , -0.68468949,  0.26010029, -0.57372311,\n",
       "         2.3627945 ,  0.37896   ,  1.37529212,  1.65158693, -0.98384388,\n",
       "        -0.86448971,  0.6172134 ,  0.52528005, -0.52265546, -0.68055397],\n",
       "       [-0.4541668 , -1.4125136 , -1.29485192, -1.80241371, -1.0689008 ,\n",
       "         0.50622842, -0.56940183, -0.99441083, -1.37481   , -0.19245997,\n",
       "        -0.04794265, -0.50148589,  0.32340651,  0.42405241, -0.044524  ],\n",
       "       [-0.56635451,  0.39008085, -0.38495956, -0.68276325, -0.96986526,\n",
       "         1.26260719,  0.23019736,  0.82693111, -0.62917597,  0.51562037,\n",
       "         0.43757181,  0.99011316,  0.32340651,  0.29800664,  0.0311031 ],\n",
       "       [ 0.28627209,  1.18492565,  0.09476218,  0.20117132,  1.40698764,\n",
       "        -0.52519717,  0.17441137, -1.29796781, -0.23442855,  0.55727215,\n",
       "         0.39343414,  0.6172134 ,  0.88619079, -2.42293945,  2.10283459],\n",
       "       [-0.76829238, -0.46153857, -0.2549197 ,  0.84939   ,  0.71373887,\n",
       "        -0.83462485,  0.7508666 ,  0.151272  , -0.62917597, -2.2750492 ,\n",
       "        -2.25482658, -0.87438565,  0.88619079,  2.13586539,  0.17997316],\n",
       "       [ 0.35358471,  1.62492902,  1.11611795,  1.08510589, -0.47468758,\n",
       "        -0.73148229, -0.08592325,  0.68984085,  0.64278795, -1.2892903 ,\n",
       "        -1.65896792, -1.24728541,  0.52528005,  1.34359371,  1.87471588],\n",
       "       [ 0.17408438, -0.36218297, -1.10261437, -0.09347354, -0.17758096,\n",
       "         0.33432416,  1.88518174,  2.6091044 ,  0.51120548, -1.12268316,\n",
       "        -1.32793533,  0.99011316,  1.73479828,  0.66812548,  1.20656483],\n",
       "       [-0.58879205, -0.5183132 , -0.40359054,  0.0243844 ,  0.21856119,\n",
       "        -0.55957802, -0.99709442,  0.46462115,  0.0287364 ,  0.66834358,\n",
       "         0.70239789, -0.87438565, -1.03598192, -0.37746159,  1.51811596],\n",
       "       [-0.92535518,  0.77330959, -0.32914754, -0.97740811, -0.47468758,\n",
       "         0.19680075,  0.5649133 ,  0.03376607,  2.22177765,  0.90437036,\n",
       "         0.81274208, -0.50148589, -0.69920602, -1.1432443 , -0.27638302],\n",
       "       [ 0.03945913,  0.14878868, -0.91180504,  1.2618928 , -1.46504295,\n",
       "         0.54060928,  0.41615066,  0.3764917 , -1.41867082, -1.05326352,\n",
       "        -1.17345346, -0.87438565,  0.71218575,  0.90223356, -0.43529008],\n",
       "       [ 0.48820996, -1.25638337, -0.68468949, -0.50597634, -1.8611851 ,\n",
       "         0.54060928,  1.3645125 ,  0.9052684 , -1.15550587, -0.7478171 ,\n",
       "        -0.75414551,  0.24431364,  0.52528005, -0.23585312, -0.27638302],\n",
       "       [-1.53116881, -0.75960537,  0.36750262, -2.21491651,  0.81277441,\n",
       "        -1.41909935, -1.68512163, -0.99441083,  1.2568395 , -0.15080819,\n",
       "         0.12860806, -1.24728541,  0.32340651, -1.1432443 , -1.37949946],\n",
       "       [-2.42867049, -1.36993263, -0.72240288, -1.33098194, -1.36600741,\n",
       "        -2.10671642,  0.10003005, -1.41547375, -0.62917597,  0.98767393,\n",
       "         0.9892928 , -0.12858612, -0.13642174,  0.16912815, -0.27638302],\n",
       "       [-1.23948077,  0.177176  , -0.47824995, -0.09347354,  0.5156678 ,\n",
       "        -1.07529082, -1.46197767,  0.21981713,  0.2041797 ,  1.66798641,\n",
       "         1.6072203 , -0.87438565, -1.03598192, -1.1432443 ,  1.57881218],\n",
       "       [-0.31954155, -1.86671063, -1.00703251, -0.62383428, -0.57372311,\n",
       "         0.88441781,  1.81080042,  0.06314255, -1.06778422, -1.30317423,\n",
       "        -1.15138462,  0.99011316,  1.73479828,  0.5473873 , -1.5655909 ],\n",
       "       [ 0.33114717,  0.68814765,  1.5343006 ,  0.84939   ,  0.71373887,\n",
       "        -0.8690057 , -0.16030457, -0.90628138,  0.42348383, -0.85888852,\n",
       "        -0.53345712,  1.36301292,  1.34601904, -0.23585312, -1.28825862],\n",
       "       [ 0.86964818,  1.88041485,  1.67219525,  0.90831897,  1.60505871,\n",
       "        -0.25015035,  0.45334132,  0.59191925,  2.134056  ,  0.3351293 ,\n",
       "         0.17274574, -0.87438565,  0.32340651,  0.16912815, -0.5978505 ],\n",
       "       [-0.70097976, -0.84476732, -1.43027952, -0.8006212 ,  0.41663226,\n",
       "        -0.45643546, -0.7367598 ,  0.73880166, -0.05898525,  0.58504001,\n",
       "         0.28308994, -0.87438565, -1.42476116, -0.23585312, -0.12096871],\n",
       "       [ 1.25108639,  0.78750325,  1.41303243,  0.0243844 ,  1.70409425,\n",
       "         0.85003696, -1.44338234,  0.30794658,  0.59892713,  2.1539239 ,\n",
       "         2.37962968,  0.24431364, -2.44737369, -0.9816885 ,  0.10592991]])"
      ]
     },
     "execution_count": 206,
     "metadata": {},
     "output_type": "execute_result"
    }
   ],
   "source": [
    "sc = StandardScaler()\n",
    "x = sc.fit_transform(x)\n",
    "x"
   ]
  },
  {
   "cell_type": "code",
   "execution_count": 207,
   "id": "fac0c5aa",
   "metadata": {},
   "outputs": [],
   "source": [
    "from sklearn.linear_model import LinearRegression\n",
    "from sklearn.metrics import r2_score, mean_squared_error\n",
    "from sklearn.model_selection import train_test_split"
   ]
  },
  {
   "cell_type": "code",
   "execution_count": 209,
   "id": "a7561f80",
   "metadata": {},
   "outputs": [
    {
     "name": "stdout",
     "output_type": "stream",
     "text": [
      "Best random state is: 1398\n",
      " where best score is 0.9340910773122326 \n",
      " where r2 score is 0.9765473882289035\n",
      " and mean squared error is 3.5602367591400577  \n"
     ]
    }
   ],
   "source": [
    "#Finding the best random state\n",
    "maxr2=0\n",
    "mse=0\n",
    "best_score=0\n",
    "rs=0\n",
    "lr=LinearRegression()\n",
    "for i in range(5000):\n",
    " \n",
    "    x_train,x_test,y_train,y_test=train_test_split(x,y,test_size=0.2,random_state=i)\n",
    "    lr.fit(x_train,y_train)\n",
    "    score=lr.score(x_train,y_train)\n",
    "    predl=lr.predict(x_test)\n",
    "    r2=r2_score(y_test,predl)\n",
    "    ms=mean_squared_error(y_test,predl)\n",
    "    if maxr2<r2:\n",
    "        maxr2=r2\n",
    "        mse=ms\n",
    "        best_score=score\n",
    "        rs=i\n",
    "print(f\"Best random state is: {rs}\\n where best score is {best_score} \\n where r2 score is {maxr2}\\n and mean squared error is {mse}  \")"
   ]
  },
  {
   "cell_type": "code",
   "execution_count": 210,
   "id": "da4b6d19",
   "metadata": {},
   "outputs": [],
   "source": [
    "x_train,x_test,y_train,y_test=train_test_split(x,y,test_size=0.2,random_state=1398)"
   ]
  },
  {
   "cell_type": "code",
   "execution_count": 211,
   "id": "dc9abf5a",
   "metadata": {},
   "outputs": [],
   "source": [
    "#Trying with other models"
   ]
  },
  {
   "cell_type": "code",
   "execution_count": 212,
   "id": "619d5df1",
   "metadata": {},
   "outputs": [],
   "source": [
    "from sklearn.linear_model import Lasso, Ridge\n",
    "from sklearn.linear_model import ElasticNet\n",
    "from sklearn.tree import DecisionTreeRegressor\n",
    "from sklearn.neighbors import KNeighborsRegressor\n",
    "from sklearn.svm import SVR"
   ]
  },
  {
   "cell_type": "code",
   "execution_count": 213,
   "id": "c3d7e84f",
   "metadata": {},
   "outputs": [
    {
     "name": "stdout",
     "output_type": "stream",
     "text": [
      "score of LinearRegression(): 0.9340910773122326\n",
      "Mean Squared error: 3.5602367591400577\n",
      "r2 score: 0.9765473882289035\n",
      "\n",
      "\n",
      "score of Lasso(): 0.8542051362595371\n",
      "Mean Squared error: 27.50347033177671\n",
      "r2 score: 0.8188243491410866\n",
      "\n",
      "\n",
      "score of Ridge(): 0.9174436790036751\n",
      "Mean Squared error: 7.1050046077161\n",
      "r2 score: 0.9531966759601501\n",
      "\n",
      "\n",
      "score of ElasticNet(): 0.8267187079050891\n",
      "Mean Squared error: 41.45558442699395\n",
      "r2 score: 0.7269165527224553\n",
      "\n",
      "\n",
      "score of DecisionTreeRegressor(): 1.0\n",
      "Mean Squared error: 110.5\n",
      "r2 score: 0.2720951509606587\n",
      "\n",
      "\n",
      "score of KNeighborsRegressor(): 0.6007083845273907\n",
      "Mean Squared error: 52.29333333333335\n",
      "r2 score: 0.6555242451967062\n",
      "\n",
      "\n",
      "score of SVR(): 0.24051622606233436\n",
      "Mean Squared error: 140.94711814890465\n",
      "r2 score: 0.07152859041892634\n",
      "\n",
      "\n"
     ]
    }
   ],
   "source": [
    "models=[LinearRegression(),Lasso(),Ridge(),ElasticNet(),DecisionTreeRegressor(),KNeighborsRegressor(),SVR()]\n",
    "for m in models:\n",
    "    m.fit(x_train,y_train)\n",
    "    predm=m.predict(x_test)\n",
    "    print(f\"score of {m}:\",m.score(x_train,y_train))\n",
    "    print(f'Mean Squared error:',mean_squared_error(y_test,predm))\n",
    "    print(f'r2 score:',r2_score(y_test,predm))\n",
    "    print('\\n')"
   ]
  },
  {
   "cell_type": "markdown",
   "id": "f6cd90ca",
   "metadata": {},
   "source": [
    "Linear Regression has the best r2 score of 0.97 and score of 0.93"
   ]
  },
  {
   "cell_type": "code",
   "execution_count": 214,
   "id": "cd0fca33",
   "metadata": {},
   "outputs": [
    {
     "name": "stdout",
     "output_type": "stream",
     "text": [
      "Mean cv score of LinearRegression(): 0.23782663748759053\n",
      "std for cv score of LinearRegression(): 0.3898232746874102\n",
      "\n",
      "\n",
      "Mean cv score of Lasso(): 0.7503611716100629\n",
      "std for cv score of Lasso(): 0.1467601971393194\n",
      "\n",
      "\n",
      "Mean cv score of Ridge(): 0.6330481219684632\n",
      "std for cv score of Ridge(): 0.2388713831314361\n",
      "\n",
      "\n",
      "Mean cv score of ElasticNet(): 0.7089252841406066\n",
      "std for cv score of ElasticNet(): 0.14015908804192473\n",
      "\n",
      "\n",
      "Mean cv score of DecisionTreeRegressor(): -0.3127332302927213\n",
      "std for cv score of DecisionTreeRegressor(): 1.1789186905988753\n",
      "\n",
      "\n",
      "Mean cv score of KNeighborsRegressor(): 0.4805175068182489\n",
      "std for cv score of KNeighborsRegressor(): 0.08754977247775193\n",
      "\n",
      "\n",
      "Mean cv score of SVR(): -0.0677456215040868\n",
      "std for cv score of SVR(): 0.12643059656501052\n",
      "\n",
      "\n"
     ]
    }
   ],
   "source": [
    "#doing cross validation\n",
    "from sklearn.model_selection import cross_val_score,KFold\n",
    "#kf=KFold(5,shuffle=True)\n",
    "for m in models:\n",
    "    cvscore=cross_val_score(m,x,y,cv=4)\n",
    "    print(f\"Mean cv score of {m}:\",cvscore.mean())\n",
    "    print(f\"std for cv score of {m}:\",cvscore.std())\n",
    "    print(\"\\n\")"
   ]
  },
  {
   "cell_type": "markdown",
   "id": "8a7c69b7",
   "metadata": {},
   "source": [
    "Ridge regression has the least difference b/w r2 score and CV score\n",
    "\n"
   ]
  },
  {
   "cell_type": "code",
   "execution_count": 215,
   "id": "6d2276d3",
   "metadata": {},
   "outputs": [
    {
     "name": "stdout",
     "output_type": "stream",
     "text": [
      "Score of Ridge: 0.9174436790036751\n",
      "mse: 7.1050046077161\n",
      "r2 score: 0.9531966759601501\n"
     ]
    }
   ],
   "source": [
    "r=Ridge()\n",
    "r.fit(x_train,y_train)\n",
    "predr=r.predict(x_test)\n",
    "print(\"Score of Ridge:\",r.score(x_train,y_train))\n",
    "print(\"mse:\",mean_squared_error(y_test,predr))\n",
    "print(\"r2 score:\",r2_score(y_test,predr))"
   ]
  },
  {
   "cell_type": "code",
   "execution_count": 216,
   "id": "0de18acf",
   "metadata": {},
   "outputs": [
    {
     "name": "stdout",
     "output_type": "stream",
     "text": [
      "Best score: 0.41105259385815496\n",
      "Best estimator: Ridge(alpha=16.308291269347762, normalize=False, solver='sag')\n",
      "Best parameters: {'alpha': 16.308291269347762, 'fit_intercept': True, 'normalize': False, 'positive': False, 'solver': 'sag'}\n"
     ]
    }
   ],
   "source": [
    "#Hyper parameter tuning of Ridge regression\n",
    "from sklearn.model_selection import GridSearchCV\n",
    "alp=np.random.uniform(low=0, high=100, size=(50,))\n",
    "par={'alpha':alp,'fit_intercept':[True,False],\n",
    "         'normalize':[True,False],\n",
    "         'solver':['auto', 'svd', 'cholesky', 'lsqr', 'sparse_cg', 'sag', 'saga', 'lbfgs'],\n",
    "         'positive':[True,False]}\n",
    "grid=GridSearchCV(r,param_grid=par)\n",
    "grid.fit(x_train,y_train)\n",
    "print(\"Best score:\",grid.best_score_)\n",
    "print(\"Best estimator:\",grid.best_estimator_)\n",
    "print(\"Best parameters:\",grid.best_params_)\n"
   ]
  },
  {
   "cell_type": "code",
   "execution_count": 217,
   "id": "ee48243c",
   "metadata": {},
   "outputs": [
    {
     "name": "stdout",
     "output_type": "stream",
     "text": [
      "Score of Ridge: 0.8706021758360808\n",
      "mse: 28.836152069509648\n",
      "r2 score: 0.8100454758458651\n"
     ]
    }
   ],
   "source": [
    "r=Ridge(alpha=0.36,normalize=True,solver='saga',fit_intercept=True,positive=False)\n",
    "r.fit(x_train,y_train)\n",
    "predr=r.predict(x_test)\n",
    "print(\"Score of Ridge:\",r.score(x_train,y_train))\n",
    "print(\"mse:\",mean_squared_error(y_test,predr))\n",
    "print(\"r2 score:\",r2_score(y_test,predr))"
   ]
  },
  {
   "cell_type": "markdown",
   "id": "e13db244",
   "metadata": {},
   "source": [
    "Accuracy is 87%"
   ]
  },
  {
   "cell_type": "code",
   "execution_count": 224,
   "id": "31c9b574",
   "metadata": {},
   "outputs": [
    {
     "data": {
      "text/plain": [
       "['Baseball.obj']"
      ]
     },
     "execution_count": 224,
     "metadata": {},
     "output_type": "execute_result"
    }
   ],
   "source": [
    "#Saving the model\n",
    "import joblib\n",
    "joblib.dump(r,'Baseball.obj')"
   ]
  },
  {
   "cell_type": "code",
   "execution_count": null,
   "id": "bda415cb",
   "metadata": {},
   "outputs": [],
   "source": []
  }
 ],
 "metadata": {
  "kernelspec": {
   "display_name": "Python 3",
   "language": "python",
   "name": "python3"
  },
  "language_info": {
   "codemirror_mode": {
    "name": "ipython",
    "version": 3
   },
   "file_extension": ".py",
   "mimetype": "text/x-python",
   "name": "python",
   "nbconvert_exporter": "python",
   "pygments_lexer": "ipython3",
   "version": "3.8.8"
  }
 },
 "nbformat": 4,
 "nbformat_minor": 5
}
